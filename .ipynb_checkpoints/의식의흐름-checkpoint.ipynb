{
 "cells": [
  {
   "cell_type": "code",
   "execution_count": 8,
   "metadata": {},
   "outputs": [],
   "source": [
    "import pandas as pd"
   ]
  },
  {
   "cell_type": "code",
   "execution_count": 9,
   "metadata": {},
   "outputs": [],
   "source": [
    "df = pd.read_csv('Transcription profiling by array of Arabidopsis expressing miR393 or AFB1 under the control of the 35S promoter after treatment with auxin andor flg22.csv')"
   ]
  },
  {
   "cell_type": "code",
   "execution_count": null,
   "metadata": {},
   "outputs": [],
   "source": []
  },
  {
   "cell_type": "code",
   "execution_count": 3,
   "metadata": {},
   "outputs": [
    {
     "data": {
      "text/html": [
       "<div>\n",
       "<style scoped>\n",
       "    .dataframe tbody tr th:only-of-type {\n",
       "        vertical-align: middle;\n",
       "    }\n",
       "\n",
       "    .dataframe tbody tr th {\n",
       "        vertical-align: top;\n",
       "    }\n",
       "\n",
       "    .dataframe thead th {\n",
       "        text-align: right;\n",
       "    }\n",
       "</style>\n",
       "<table border=\"1\" class=\"dataframe\">\n",
       "  <thead>\n",
       "    <tr style=\"text-align: right;\">\n",
       "      <th></th>\n",
       "      <th>.</th>\n",
       "      <th>..1</th>\n",
       "      <th>..2</th>\n",
       "      <th>..3</th>\n",
       "      <th>..4</th>\n",
       "      <th>..5</th>\n",
       "      <th>..6</th>\n",
       "      <th>..7</th>\n",
       "      <th>..8</th>\n",
       "      <th>..9</th>\n",
       "      <th>..10</th>\n",
       "      <th>..11</th>\n",
       "    </tr>\n",
       "  </thead>\n",
       "  <tbody>\n",
       "    <tr>\n",
       "      <th>0</th>\n",
       "      <td>#age</td>\n",
       "      <td>5(week)</td>\n",
       "      <td>.</td>\n",
       "      <td>.</td>\n",
       "      <td>.</td>\n",
       "      <td>.</td>\n",
       "      <td>.</td>\n",
       "      <td>.</td>\n",
       "      <td>.</td>\n",
       "      <td>.</td>\n",
       "      <td>.</td>\n",
       "      <td>.</td>\n",
       "    </tr>\n",
       "    <tr>\n",
       "      <th>1</th>\n",
       "      <td>#tissue</td>\n",
       "      <td>leaf</td>\n",
       "      <td>.</td>\n",
       "      <td>.</td>\n",
       "      <td>.</td>\n",
       "      <td>.</td>\n",
       "      <td>.</td>\n",
       "      <td>.</td>\n",
       "      <td>.</td>\n",
       "      <td>.</td>\n",
       "      <td>.</td>\n",
       "      <td>.</td>\n",
       "    </tr>\n",
       "    <tr>\n",
       "      <th>2</th>\n",
       "      <td>#compound</td>\n",
       "      <td>.</td>\n",
       "      <td>.</td>\n",
       "      <td>1-naphthylacetic acid</td>\n",
       "      <td>1-naphthylacetic acid</td>\n",
       "      <td>none</td>\n",
       "      <td>none</td>\n",
       "      <td>1-naphthylacetic acid</td>\n",
       "      <td>1-naphthylacetic acid</td>\n",
       "      <td>none</td>\n",
       "      <td>1-naphthylacetic acid</td>\n",
       "      <td>1-naphthylacetic acid</td>\n",
       "    </tr>\n",
       "    <tr>\n",
       "      <th>3</th>\n",
       "      <td>Gene ID</td>\n",
       "      <td>Gene Name</td>\n",
       "      <td>DesignElementAccession</td>\n",
       "      <td>GSM435954</td>\n",
       "      <td>GSM435939</td>\n",
       "      <td>GSM435933</td>\n",
       "      <td>GSM435948</td>\n",
       "      <td>GSM435940</td>\n",
       "      <td>GSM435938</td>\n",
       "      <td>GSM435963</td>\n",
       "      <td>GSM435969</td>\n",
       "      <td>GSM435968</td>\n",
       "    </tr>\n",
       "    <tr>\n",
       "      <th>4</th>\n",
       "      <td>AT1G01010</td>\n",
       "      <td>NAC001</td>\n",
       "      <td>261585_at</td>\n",
       "      <td>7.004144421</td>\n",
       "      <td>7.802045446</td>\n",
       "      <td>8.126985489</td>\n",
       "      <td>8.165217585</td>\n",
       "      <td>8.337848939</td>\n",
       "      <td>8.113142172</td>\n",
       "      <td>7.759874663</td>\n",
       "      <td>7.433101564</td>\n",
       "      <td>7.721943329</td>\n",
       "    </tr>\n",
       "  </tbody>\n",
       "</table>\n",
       "</div>"
      ],
      "text/plain": [
       "           .        ..1                     ..2                    ..3  \\\n",
       "0       #age    5(week)                       .                      .   \n",
       "1    #tissue       leaf                       .                      .   \n",
       "2  #compound          .                       .  1-naphthylacetic acid   \n",
       "3    Gene ID  Gene Name  DesignElementAccession              GSM435954   \n",
       "4  AT1G01010     NAC001               261585_at            7.004144421   \n",
       "\n",
       "                     ..4          ..5          ..6                    ..7  \\\n",
       "0                      .            .            .                      .   \n",
       "1                      .            .            .                      .   \n",
       "2  1-naphthylacetic acid         none         none  1-naphthylacetic acid   \n",
       "3              GSM435939    GSM435933    GSM435948              GSM435940   \n",
       "4            7.802045446  8.126985489  8.165217585            8.337848939   \n",
       "\n",
       "                     ..8          ..9                   ..10  \\\n",
       "0                      .            .                      .   \n",
       "1                      .            .                      .   \n",
       "2  1-naphthylacetic acid         none  1-naphthylacetic acid   \n",
       "3              GSM435938    GSM435963              GSM435969   \n",
       "4            8.113142172  7.759874663            7.433101564   \n",
       "\n",
       "                    ..11  \n",
       "0                      .  \n",
       "1                      .  \n",
       "2  1-naphthylacetic acid  \n",
       "3              GSM435968  \n",
       "4            7.721943329  "
      ]
     },
     "execution_count": 3,
     "metadata": {},
     "output_type": "execute_result"
    }
   ],
   "source": [
    "df.head()"
   ]
  },
  {
   "cell_type": "code",
   "execution_count": 26,
   "metadata": {},
   "outputs": [],
   "source": [
    "df1=pd.read_csv('Transcription profiling by array of Arabidopsis expressing miR393 or AFB1 under the control of the 35S promoter after treatment with auxin andor flg22.csv',comment='#',skiprows=1)"
   ]
  },
  {
   "cell_type": "code",
   "execution_count": 15,
   "metadata": {},
   "outputs": [
    {
     "data": {
      "text/html": [
       "<div>\n",
       "<style scoped>\n",
       "    .dataframe tbody tr th:only-of-type {\n",
       "        vertical-align: middle;\n",
       "    }\n",
       "\n",
       "    .dataframe tbody tr th {\n",
       "        vertical-align: top;\n",
       "    }\n",
       "\n",
       "    .dataframe thead th {\n",
       "        text-align: right;\n",
       "    }\n",
       "</style>\n",
       "<table border=\"1\" class=\"dataframe\">\n",
       "  <thead>\n",
       "    <tr style=\"text-align: right;\">\n",
       "      <th></th>\n",
       "      <th>Gene ID</th>\n",
       "      <th>Gene Name</th>\n",
       "      <th>DesignElementAccession</th>\n",
       "      <th>GSM435954</th>\n",
       "      <th>GSM435939</th>\n",
       "      <th>GSM435933</th>\n",
       "      <th>GSM435948</th>\n",
       "      <th>GSM435940</th>\n",
       "      <th>GSM435938</th>\n",
       "      <th>GSM435963</th>\n",
       "      <th>GSM435969</th>\n",
       "      <th>GSM435968</th>\n",
       "    </tr>\n",
       "  </thead>\n",
       "  <tbody>\n",
       "    <tr>\n",
       "      <th>0</th>\n",
       "      <td>AT1G01010</td>\n",
       "      <td>NAC001</td>\n",
       "      <td>261585_at</td>\n",
       "      <td>7.004144</td>\n",
       "      <td>7.802045</td>\n",
       "      <td>8.126985</td>\n",
       "      <td>8.165218</td>\n",
       "      <td>8.337849</td>\n",
       "      <td>8.113142</td>\n",
       "      <td>7.759875</td>\n",
       "      <td>7.433102</td>\n",
       "      <td>7.721943</td>\n",
       "    </tr>\n",
       "    <tr>\n",
       "      <th>1</th>\n",
       "      <td>AT1G01030</td>\n",
       "      <td>NGA3</td>\n",
       "      <td>261568_at</td>\n",
       "      <td>5.042389</td>\n",
       "      <td>4.789634</td>\n",
       "      <td>5.347824</td>\n",
       "      <td>6.117440</td>\n",
       "      <td>5.552107</td>\n",
       "      <td>5.097536</td>\n",
       "      <td>5.056807</td>\n",
       "      <td>5.006813</td>\n",
       "      <td>4.909746</td>\n",
       "    </tr>\n",
       "    <tr>\n",
       "      <th>2</th>\n",
       "      <td>AT1G01040</td>\n",
       "      <td>DCL1</td>\n",
       "      <td>261584_at</td>\n",
       "      <td>6.866617</td>\n",
       "      <td>6.938583</td>\n",
       "      <td>6.805310</td>\n",
       "      <td>8.193419</td>\n",
       "      <td>6.251746</td>\n",
       "      <td>7.014768</td>\n",
       "      <td>6.882764</td>\n",
       "      <td>7.348489</td>\n",
       "      <td>6.947212</td>\n",
       "    </tr>\n",
       "    <tr>\n",
       "      <th>3</th>\n",
       "      <td>AT1G01050</td>\n",
       "      <td>PPA1</td>\n",
       "      <td>261579_at</td>\n",
       "      <td>10.210871</td>\n",
       "      <td>10.583121</td>\n",
       "      <td>10.976472</td>\n",
       "      <td>10.692355</td>\n",
       "      <td>10.404262</td>\n",
       "      <td>10.820254</td>\n",
       "      <td>10.526928</td>\n",
       "      <td>10.511599</td>\n",
       "      <td>10.577716</td>\n",
       "    </tr>\n",
       "    <tr>\n",
       "      <th>4</th>\n",
       "      <td>AT1G01060</td>\n",
       "      <td>LHY</td>\n",
       "      <td>261569_at</td>\n",
       "      <td>8.339812</td>\n",
       "      <td>9.499185</td>\n",
       "      <td>11.826006</td>\n",
       "      <td>8.900511</td>\n",
       "      <td>11.186255</td>\n",
       "      <td>11.308510</td>\n",
       "      <td>9.852807</td>\n",
       "      <td>7.739560</td>\n",
       "      <td>9.842399</td>\n",
       "    </tr>\n",
       "  </tbody>\n",
       "</table>\n",
       "</div>"
      ],
      "text/plain": [
       "     Gene ID Gene Name DesignElementAccession  GSM435954  GSM435939  \\\n",
       "0  AT1G01010    NAC001              261585_at   7.004144   7.802045   \n",
       "1  AT1G01030      NGA3              261568_at   5.042389   4.789634   \n",
       "2  AT1G01040      DCL1              261584_at   6.866617   6.938583   \n",
       "3  AT1G01050      PPA1              261579_at  10.210871  10.583121   \n",
       "4  AT1G01060       LHY              261569_at   8.339812   9.499185   \n",
       "\n",
       "   GSM435933  GSM435948  GSM435940  GSM435938  GSM435963  GSM435969  GSM435968  \n",
       "0   8.126985   8.165218   8.337849   8.113142   7.759875   7.433102   7.721943  \n",
       "1   5.347824   6.117440   5.552107   5.097536   5.056807   5.006813   4.909746  \n",
       "2   6.805310   8.193419   6.251746   7.014768   6.882764   7.348489   6.947212  \n",
       "3  10.976472  10.692355  10.404262  10.820254  10.526928  10.511599  10.577716  \n",
       "4  11.826006   8.900511  11.186255  11.308510   9.852807   7.739560   9.842399  "
      ]
     },
     "execution_count": 15,
     "metadata": {},
     "output_type": "execute_result"
    }
   ],
   "source": [
    "df1.head()"
   ]
  },
  {
   "cell_type": "code",
   "execution_count": 6,
   "metadata": {},
   "outputs": [
    {
     "data": {
      "text/plain": [
       "('GSM435954', '5(week)', 'leaf', '1-naphthylacetic acid')"
      ]
     },
     "execution_count": 6,
     "metadata": {},
     "output_type": "execute_result"
    }
   ],
   "source": [
    "df.at[3,'..3'],df.at[0,'..1'],df.at[1,'..1'],df.at[2,'..3']"
   ]
  },
  {
   "cell_type": "code",
   "execution_count": 16,
   "metadata": {},
   "outputs": [
    {
     "data": {
      "text/plain": [
       "Index(['.', '..1', '..2', '..3', '..4', '..5', '..6', '..7', '..8', '..9',\n",
       "       '..10', '..11'],\n",
       "      dtype='object')"
      ]
     },
     "execution_count": 16,
     "metadata": {},
     "output_type": "execute_result"
    }
   ],
   "source": [
    "df.columns"
   ]
  },
  {
   "cell_type": "code",
   "execution_count": 197,
   "metadata": {},
   "outputs": [],
   "source": [
    "a=abc[3:]"
   ]
  },
  {
   "cell_type": "code",
   "execution_count": 10,
   "metadata": {},
   "outputs": [
    {
     "name": "stdout",
     "output_type": "stream",
     "text": [
      "Gene ID #compound\n",
      "Gene Name .\n",
      "DesignElementAccession .\n",
      "GSM435954 1-naphthylacetic acid\n",
      "GSM435939 1-naphthylacetic acid\n",
      "GSM435933 none\n",
      "GSM435948 none\n",
      "GSM435940 1-naphthylacetic acid\n",
      "GSM435938 1-naphthylacetic acid\n",
      "GSM435963 none\n",
      "GSM435969 1-naphthylacetic acid\n",
      "GSM435968 1-naphthylacetic acid\n"
     ]
    }
   ],
   "source": [
    "col={}\n",
    "for x in df.columns:\n",
    "    key= df.at[3,x]\n",
    "    values=df.at[2,x]\n",
    "    col[key]=values\n",
    "    print(key,values)\n"
   ]
  },
  {
   "cell_type": "code",
   "execution_count": 10,
   "metadata": {},
   "outputs": [
    {
     "data": {
      "text/plain": [
       "{'DesignElementAccession': '.',\n",
       " 'GSM435933': 'none',\n",
       " 'GSM435938': '1-naphthylacetic acid',\n",
       " 'GSM435939': '1-naphthylacetic acid',\n",
       " 'GSM435940': '1-naphthylacetic acid',\n",
       " 'GSM435948': 'none',\n",
       " 'GSM435954': '1-naphthylacetic acid',\n",
       " 'GSM435963': 'none',\n",
       " 'GSM435968': '1-naphthylacetic acid',\n",
       " 'GSM435969': '1-naphthylacetic acid',\n",
       " 'Gene ID': '#compound',\n",
       " 'Gene Name': '.'}"
      ]
     },
     "execution_count": 10,
     "metadata": {},
     "output_type": "execute_result"
    }
   ],
   "source": [
    "col"
   ]
  },
  {
   "cell_type": "code",
   "execution_count": 28,
   "metadata": {},
   "outputs": [],
   "source": [
    "p=df.at[0,'..1']\n",
    "c=df.at[1,'..1']\n",
    "\n",
    "for k in col:\n",
    "    #exec(\"df1['%s;%s;%s;%s'] = df1['%s']\"% (k,p,c,col[k],k))\n",
    "    df1['%s;%s;%s;%s'%(k,p,c,col[k])] = df1['%s'%k]\n",
    "    \n"
   ]
  },
  {
   "cell_type": "code",
   "execution_count": 29,
   "metadata": {},
   "outputs": [
    {
     "data": {
      "text/html": [
       "<div>\n",
       "<style scoped>\n",
       "    .dataframe tbody tr th:only-of-type {\n",
       "        vertical-align: middle;\n",
       "    }\n",
       "\n",
       "    .dataframe tbody tr th {\n",
       "        vertical-align: top;\n",
       "    }\n",
       "\n",
       "    .dataframe thead th {\n",
       "        text-align: right;\n",
       "    }\n",
       "</style>\n",
       "<table border=\"1\" class=\"dataframe\">\n",
       "  <thead>\n",
       "    <tr style=\"text-align: right;\">\n",
       "      <th></th>\n",
       "      <th>Gene ID</th>\n",
       "      <th>Gene Name</th>\n",
       "      <th>DesignElementAccession</th>\n",
       "      <th>GSM435954</th>\n",
       "      <th>GSM435939</th>\n",
       "      <th>GSM435933</th>\n",
       "      <th>GSM435948</th>\n",
       "      <th>GSM435940</th>\n",
       "      <th>GSM435938</th>\n",
       "      <th>GSM435963</th>\n",
       "      <th>...</th>\n",
       "      <th>GSM435963;5(week);leaf;none</th>\n",
       "      <th>DesignElementAccession;5(week);leaf;.</th>\n",
       "      <th>GSM435948;5(week);leaf;none</th>\n",
       "      <th>GSM435969;5(week);leaf;1-naphthylacetic acid</th>\n",
       "      <th>GSM435933;5(week);leaf;none</th>\n",
       "      <th>GSM435940;5(week);leaf;1-naphthylacetic acid</th>\n",
       "      <th>GSM435968;5(week);leaf;1-naphthylacetic acid</th>\n",
       "      <th>GSM435938;5(week);leaf;1-naphthylacetic acid</th>\n",
       "      <th>Gene ID;5(week);leaf;#compound</th>\n",
       "      <th>GSM435954;5(week);leaf;1-naphthylacetic acid</th>\n",
       "    </tr>\n",
       "  </thead>\n",
       "  <tbody>\n",
       "    <tr>\n",
       "      <th>0</th>\n",
       "      <td>AT1G01010</td>\n",
       "      <td>NAC001</td>\n",
       "      <td>261585_at</td>\n",
       "      <td>7.004144</td>\n",
       "      <td>7.802045</td>\n",
       "      <td>8.126985</td>\n",
       "      <td>8.165218</td>\n",
       "      <td>8.337849</td>\n",
       "      <td>8.113142</td>\n",
       "      <td>7.759875</td>\n",
       "      <td>...</td>\n",
       "      <td>7.759875</td>\n",
       "      <td>261585_at</td>\n",
       "      <td>8.165218</td>\n",
       "      <td>7.433102</td>\n",
       "      <td>8.126985</td>\n",
       "      <td>8.337849</td>\n",
       "      <td>7.721943</td>\n",
       "      <td>8.113142</td>\n",
       "      <td>AT1G01010</td>\n",
       "      <td>7.004144</td>\n",
       "    </tr>\n",
       "    <tr>\n",
       "      <th>1</th>\n",
       "      <td>AT1G01030</td>\n",
       "      <td>NGA3</td>\n",
       "      <td>261568_at</td>\n",
       "      <td>5.042389</td>\n",
       "      <td>4.789634</td>\n",
       "      <td>5.347824</td>\n",
       "      <td>6.117440</td>\n",
       "      <td>5.552107</td>\n",
       "      <td>5.097536</td>\n",
       "      <td>5.056807</td>\n",
       "      <td>...</td>\n",
       "      <td>5.056807</td>\n",
       "      <td>261568_at</td>\n",
       "      <td>6.117440</td>\n",
       "      <td>5.006813</td>\n",
       "      <td>5.347824</td>\n",
       "      <td>5.552107</td>\n",
       "      <td>4.909746</td>\n",
       "      <td>5.097536</td>\n",
       "      <td>AT1G01030</td>\n",
       "      <td>5.042389</td>\n",
       "    </tr>\n",
       "    <tr>\n",
       "      <th>2</th>\n",
       "      <td>AT1G01040</td>\n",
       "      <td>DCL1</td>\n",
       "      <td>261584_at</td>\n",
       "      <td>6.866617</td>\n",
       "      <td>6.938583</td>\n",
       "      <td>6.805310</td>\n",
       "      <td>8.193419</td>\n",
       "      <td>6.251746</td>\n",
       "      <td>7.014768</td>\n",
       "      <td>6.882764</td>\n",
       "      <td>...</td>\n",
       "      <td>6.882764</td>\n",
       "      <td>261584_at</td>\n",
       "      <td>8.193419</td>\n",
       "      <td>7.348489</td>\n",
       "      <td>6.805310</td>\n",
       "      <td>6.251746</td>\n",
       "      <td>6.947212</td>\n",
       "      <td>7.014768</td>\n",
       "      <td>AT1G01040</td>\n",
       "      <td>6.866617</td>\n",
       "    </tr>\n",
       "    <tr>\n",
       "      <th>3</th>\n",
       "      <td>AT1G01050</td>\n",
       "      <td>PPA1</td>\n",
       "      <td>261579_at</td>\n",
       "      <td>10.210871</td>\n",
       "      <td>10.583121</td>\n",
       "      <td>10.976472</td>\n",
       "      <td>10.692355</td>\n",
       "      <td>10.404262</td>\n",
       "      <td>10.820254</td>\n",
       "      <td>10.526928</td>\n",
       "      <td>...</td>\n",
       "      <td>10.526928</td>\n",
       "      <td>261579_at</td>\n",
       "      <td>10.692355</td>\n",
       "      <td>10.511599</td>\n",
       "      <td>10.976472</td>\n",
       "      <td>10.404262</td>\n",
       "      <td>10.577716</td>\n",
       "      <td>10.820254</td>\n",
       "      <td>AT1G01050</td>\n",
       "      <td>10.210871</td>\n",
       "    </tr>\n",
       "    <tr>\n",
       "      <th>4</th>\n",
       "      <td>AT1G01060</td>\n",
       "      <td>LHY</td>\n",
       "      <td>261569_at</td>\n",
       "      <td>8.339812</td>\n",
       "      <td>9.499185</td>\n",
       "      <td>11.826006</td>\n",
       "      <td>8.900511</td>\n",
       "      <td>11.186255</td>\n",
       "      <td>11.308510</td>\n",
       "      <td>9.852807</td>\n",
       "      <td>...</td>\n",
       "      <td>9.852807</td>\n",
       "      <td>261569_at</td>\n",
       "      <td>8.900511</td>\n",
       "      <td>7.739560</td>\n",
       "      <td>11.826006</td>\n",
       "      <td>11.186255</td>\n",
       "      <td>9.842399</td>\n",
       "      <td>11.308510</td>\n",
       "      <td>AT1G01060</td>\n",
       "      <td>8.339812</td>\n",
       "    </tr>\n",
       "  </tbody>\n",
       "</table>\n",
       "<p>5 rows × 24 columns</p>\n",
       "</div>"
      ],
      "text/plain": [
       "     Gene ID Gene Name DesignElementAccession  GSM435954  GSM435939  \\\n",
       "0  AT1G01010    NAC001              261585_at   7.004144   7.802045   \n",
       "1  AT1G01030      NGA3              261568_at   5.042389   4.789634   \n",
       "2  AT1G01040      DCL1              261584_at   6.866617   6.938583   \n",
       "3  AT1G01050      PPA1              261579_at  10.210871  10.583121   \n",
       "4  AT1G01060       LHY              261569_at   8.339812   9.499185   \n",
       "\n",
       "   GSM435933  GSM435948  GSM435940  GSM435938  GSM435963  \\\n",
       "0   8.126985   8.165218   8.337849   8.113142   7.759875   \n",
       "1   5.347824   6.117440   5.552107   5.097536   5.056807   \n",
       "2   6.805310   8.193419   6.251746   7.014768   6.882764   \n",
       "3  10.976472  10.692355  10.404262  10.820254  10.526928   \n",
       "4  11.826006   8.900511  11.186255  11.308510   9.852807   \n",
       "\n",
       "                       ...                       GSM435963;5(week);leaf;none  \\\n",
       "0                      ...                                          7.759875   \n",
       "1                      ...                                          5.056807   \n",
       "2                      ...                                          6.882764   \n",
       "3                      ...                                         10.526928   \n",
       "4                      ...                                          9.852807   \n",
       "\n",
       "   DesignElementAccession;5(week);leaf;. GSM435948;5(week);leaf;none  \\\n",
       "0                              261585_at                    8.165218   \n",
       "1                              261568_at                    6.117440   \n",
       "2                              261584_at                    8.193419   \n",
       "3                              261579_at                   10.692355   \n",
       "4                              261569_at                    8.900511   \n",
       "\n",
       "   GSM435969;5(week);leaf;1-naphthylacetic acid  GSM435933;5(week);leaf;none  \\\n",
       "0                                      7.433102                     8.126985   \n",
       "1                                      5.006813                     5.347824   \n",
       "2                                      7.348489                     6.805310   \n",
       "3                                     10.511599                    10.976472   \n",
       "4                                      7.739560                    11.826006   \n",
       "\n",
       "  GSM435940;5(week);leaf;1-naphthylacetic acid  \\\n",
       "0                                     8.337849   \n",
       "1                                     5.552107   \n",
       "2                                     6.251746   \n",
       "3                                    10.404262   \n",
       "4                                    11.186255   \n",
       "\n",
       "   GSM435968;5(week);leaf;1-naphthylacetic acid  \\\n",
       "0                                      7.721943   \n",
       "1                                      4.909746   \n",
       "2                                      6.947212   \n",
       "3                                     10.577716   \n",
       "4                                      9.842399   \n",
       "\n",
       "   GSM435938;5(week);leaf;1-naphthylacetic acid  \\\n",
       "0                                      8.113142   \n",
       "1                                      5.097536   \n",
       "2                                      7.014768   \n",
       "3                                     10.820254   \n",
       "4                                     11.308510   \n",
       "\n",
       "   Gene ID;5(week);leaf;#compound  \\\n",
       "0                       AT1G01010   \n",
       "1                       AT1G01030   \n",
       "2                       AT1G01040   \n",
       "3                       AT1G01050   \n",
       "4                       AT1G01060   \n",
       "\n",
       "   GSM435954;5(week);leaf;1-naphthylacetic acid  \n",
       "0                                      7.004144  \n",
       "1                                      5.042389  \n",
       "2                                      6.866617  \n",
       "3                                     10.210871  \n",
       "4                                      8.339812  \n",
       "\n",
       "[5 rows x 24 columns]"
      ]
     },
     "execution_count": 29,
     "metadata": {},
     "output_type": "execute_result"
    }
   ],
   "source": [
    "df1.head()"
   ]
  },
  {
   "cell_type": "code",
   "execution_count": 9,
   "metadata": {},
   "outputs": [
    {
     "data": {
      "text/plain": [
       "0         8.337849\n",
       "1         5.552107\n",
       "2         6.251746\n",
       "3        10.404262\n",
       "4        11.186255\n",
       "5         6.111227\n",
       "6         8.900753\n",
       "7        11.282831\n",
       "8        12.325136\n",
       "9         4.431137\n",
       "10       10.166767\n",
       "11        5.591743\n",
       "12        9.822468\n",
       "13        3.548141\n",
       "14        8.140093\n",
       "15       10.897016\n",
       "16        4.866379\n",
       "17        5.379527\n",
       "18        6.853911\n",
       "19        5.620616\n",
       "20       11.222627\n",
       "21        9.321020\n",
       "22        6.068958\n",
       "23        9.053836\n",
       "24        3.968746\n",
       "25        7.236792\n",
       "26        7.779470\n",
       "27        3.848177\n",
       "28        8.415759\n",
       "29        5.434222\n",
       "           ...    \n",
       "20569     4.248847\n",
       "20570     5.285090\n",
       "20571     5.547282\n",
       "20572     5.592071\n",
       "20573     3.650166\n",
       "20574     8.147890\n",
       "20575     6.250407\n",
       "20576     4.283750\n",
       "20577     4.973465\n",
       "20578     4.650602\n",
       "20579     4.783989\n",
       "20580     5.081963\n",
       "20581     7.643882\n",
       "20582     6.788418\n",
       "20583     5.912363\n",
       "20584     7.488875\n",
       "20585     6.720204\n",
       "20586     4.102726\n",
       "20587     7.926294\n",
       "20588     5.481493\n",
       "20589     5.769906\n",
       "20590     5.071442\n",
       "20591     5.676003\n",
       "20592     5.535550\n",
       "20593     4.390798\n",
       "20594     5.913053\n",
       "20595     9.275081\n",
       "20596     9.283843\n",
       "20597     4.159760\n",
       "20598     6.190185\n",
       "Name: GSM435940;5(week);leaf;1-naphthylacetic acid, Length: 20599, dtype: float64"
      ]
     },
     "execution_count": 9,
     "metadata": {},
     "output_type": "execute_result"
    }
   ],
   "source": [
    "df1['GSM435940;5(week);leaf;1-naphthylacetic acid']"
   ]
  },
  {
   "cell_type": "code",
   "execution_count": 38,
   "metadata": {},
   "outputs": [],
   "source": [
    "bcd=[df.at[2,'%s'%x] for x in df.columns]"
   ]
  },
  {
   "cell_type": "code",
   "execution_count": 10,
   "metadata": {},
   "outputs": [
    {
     "ename": "NameError",
     "evalue": "name 'files' is not defined",
     "output_type": "error",
     "traceback": [
      "\u001b[0;31m---------------------------------------------------------------------------\u001b[0m",
      "\u001b[0;31mNameError\u001b[0m                                 Traceback (most recent call last)",
      "\u001b[0;32m<ipython-input-10-66a56feb60c7>\u001b[0m in \u001b[0;36m<module>\u001b[0;34m()\u001b[0m\n\u001b[0;32m----> 1\u001b[0;31m \u001b[0;32mfor\u001b[0m \u001b[0mf\u001b[0m \u001b[0;32min\u001b[0m \u001b[0mfiles\u001b[0m\u001b[0;34m:\u001b[0m\u001b[0;34m\u001b[0m\u001b[0m\n\u001b[0m\u001b[1;32m      2\u001b[0m     \u001b[0;32mif\u001b[0m \u001b[0mf\u001b[0m\u001b[0;34m.\u001b[0m\u001b[0mendswith\u001b[0m\u001b[0;34m(\u001b[0m\u001b[0;34m'.tsv'\u001b[0m\u001b[0;34m)\u001b[0m\u001b[0;34m:\u001b[0m\u001b[0;34m\u001b[0m\u001b[0m\n\u001b[1;32m      3\u001b[0m         \u001b[0mkey\u001b[0m \u001b[0;34m=\u001b[0m \u001b[0mf\u001b[0m\u001b[0;34m[\u001b[0m\u001b[0;34m:\u001b[0m\u001b[0;34m-\u001b[0m\u001b[0mlen\u001b[0m\u001b[0;34m(\u001b[0m\u001b[0;34m'.tsv'\u001b[0m\u001b[0;34m)\u001b[0m\u001b[0;34m]\u001b[0m\u001b[0;34m\u001b[0m\u001b[0m\n\u001b[1;32m      4\u001b[0m         \u001b[0mkey\u001b[0m \u001b[0;34m=\u001b[0m \u001b[0mkey\u001b[0m\u001b[0;34m.\u001b[0m\u001b[0mreplace\u001b[0m\u001b[0;34m(\u001b[0m\u001b[0;34m\" \"\u001b[0m\u001b[0;34m,\u001b[0m \u001b[0;34m\"_\"\u001b[0m\u001b[0;34m)\u001b[0m\u001b[0;34m\u001b[0m\u001b[0m\n\u001b[1;32m      5\u001b[0m         \u001b[0mkey\u001b[0m \u001b[0;34m=\u001b[0m \u001b[0mkey\u001b[0m\u001b[0;34m.\u001b[0m\u001b[0mreplace\u001b[0m\u001b[0;34m(\u001b[0m\u001b[0;34m\"-\"\u001b[0m\u001b[0;34m,\u001b[0m \u001b[0;34m\"_\"\u001b[0m\u001b[0;34m)\u001b[0m\u001b[0;34m\u001b[0m\u001b[0m\n",
      "\u001b[0;31mNameError\u001b[0m: name 'files' is not defined"
     ]
    }
   ],
   "source": [
    "for f in files: \n",
    "    if f.endswith('.tsv'): \n",
    "        key = f[:-len('.tsv')] \n",
    "        key = key.replace(\" \", \"_\") \n",
    "        key = key.replace(\"-\", \"_\") \n",
    "        files_dict[key] = f \n",
    "        for k, v in files_dict.items():\n",
    "            exec(\"%s = pd.read_csv(base_url + '%s',sep='\\t')\" % (k, v), globals()) "
   ]
  },
  {
   "cell_type": "code",
   "execution_count": 165,
   "metadata": {},
   "outputs": [],
   "source": [
    "from functools import reduce"
   ]
  },
  {
   "cell_type": "code",
   "execution_count": 14,
   "metadata": {},
   "outputs": [
    {
     "data": {
      "text/plain": [
       "[\"df1['DesignElementAccession;5(week);leaf;.'] = df1['DesignElementAccession']\",\n",
       " \"df1['GSM435963;5(week);leaf;none'] = df1['GSM435963']\",\n",
       " \"df1['GSM435948;5(week);leaf;none'] = df1['GSM435948']\",\n",
       " \"df1['GSM435933;5(week);leaf;none'] = df1['GSM435933']\",\n",
       " \"df1['GSM435938;5(week);leaf;1-naphthylacetic acid'] = df1['GSM435938']\",\n",
       " \"df1['GSM435939;5(week);leaf;1-naphthylacetic acid'] = df1['GSM435939']\",\n",
       " \"df1['GSM435940;5(week);leaf;1-naphthylacetic acid'] = df1['GSM435940']\",\n",
       " \"df1['Gene ID;5(week);leaf;#compound'] = df1['Gene ID']\",\n",
       " \"df1['GSM435968;5(week);leaf;1-naphthylacetic acid'] = df1['GSM435968']\",\n",
       " \"df1['GSM435969;5(week);leaf;1-naphthylacetic acid'] = df1['GSM435969']\",\n",
       " \"df1['GSM435954;5(week);leaf;1-naphthylacetic acid'] = df1['GSM435954']\",\n",
       " \"df1['Gene Name;5(week);leaf;.'] = df1['Gene Name']\"]"
      ]
     },
     "execution_count": 14,
     "metadata": {},
     "output_type": "execute_result"
    }
   ],
   "source": [
    "p=df.at[0,'..1']\n",
    "c=df.at[1,'..1']\n",
    "[\"df1['%s;%s;%s;%s'] = df1['%s']\"% (k,p,c,col[k],k) for k in col]\n",
    "\n"
   ]
  },
  {
   "cell_type": "code",
   "execution_count": 19,
   "metadata": {},
   "outputs": [
    {
     "data": {
      "text/plain": [
       "['none', '1-naphthylacetic acid']"
      ]
     },
     "execution_count": 19,
     "metadata": {},
     "output_type": "execute_result"
    }
   ],
   "source": [
    "abc"
   ]
  },
  {
   "cell_type": "code",
   "execution_count": 6,
   "metadata": {},
   "outputs": [],
   "source": [
    "abc.append('none')"
   ]
  },
  {
   "cell_type": "code",
   "execution_count": 7,
   "metadata": {},
   "outputs": [],
   "source": [
    "abc.append('1-naphthylacetic acid')"
   ]
  },
  {
   "cell_type": "code",
   "execution_count": 24,
   "metadata": {},
   "outputs": [
    {
     "ename": "NameError",
     "evalue": "name 'df1' is not defined",
     "output_type": "error",
     "traceback": [
      "\u001b[0;31m---------------------------------------------------------------------------\u001b[0m",
      "\u001b[0;31mNameError\u001b[0m                                 Traceback (most recent call last)",
      "\u001b[0;32m<ipython-input-24-3109a74a172a>\u001b[0m in \u001b[0;36m<module>\u001b[0;34m()\u001b[0m\n\u001b[1;32m      2\u001b[0m \u001b[0mc\u001b[0m\u001b[0;34m=\u001b[0m\u001b[0mdf\u001b[0m\u001b[0;34m.\u001b[0m\u001b[0mat\u001b[0m\u001b[0;34m[\u001b[0m\u001b[0;36m1\u001b[0m\u001b[0;34m,\u001b[0m\u001b[0;34m'..1'\u001b[0m\u001b[0;34m]\u001b[0m\u001b[0;34m\u001b[0m\u001b[0m\n\u001b[1;32m      3\u001b[0m \u001b[0;32mfor\u001b[0m \u001b[0mk\u001b[0m \u001b[0;32min\u001b[0m \u001b[0mcol\u001b[0m\u001b[0;34m:\u001b[0m\u001b[0;34m\u001b[0m\u001b[0m\n\u001b[0;32m----> 4\u001b[0;31m     \u001b[0mexec\u001b[0m\u001b[0;34m(\u001b[0m\u001b[0;34m\"df2['%s;%s;%s;%s'] = df1['%s']\"\u001b[0m\u001b[0;34m%\u001b[0m \u001b[0;34m(\u001b[0m\u001b[0mk\u001b[0m\u001b[0;34m,\u001b[0m\u001b[0mp\u001b[0m\u001b[0;34m,\u001b[0m\u001b[0mc\u001b[0m\u001b[0;34m,\u001b[0m\u001b[0mcol\u001b[0m\u001b[0;34m[\u001b[0m\u001b[0mk\u001b[0m\u001b[0;34m]\u001b[0m\u001b[0;34m,\u001b[0m\u001b[0mk\u001b[0m\u001b[0;34m)\u001b[0m\u001b[0;34m,\u001b[0m\u001b[0mglobals\u001b[0m\u001b[0;34m(\u001b[0m\u001b[0;34m)\u001b[0m\u001b[0;34m)\u001b[0m\u001b[0;34m\u001b[0m\u001b[0m\n\u001b[0m\u001b[1;32m      5\u001b[0m     \u001b[0mprint\u001b[0m\u001b[0;34m(\u001b[0m\u001b[0mglobals\u001b[0m\u001b[0;34m(\u001b[0m\u001b[0;34m)\u001b[0m\u001b[0;34m)\u001b[0m\u001b[0;31m#값을 리턴. 리턴값 리스트로 만들기\u001b[0m\u001b[0;34m\u001b[0m\u001b[0m\n",
      "\u001b[0;32m<string>\u001b[0m in \u001b[0;36m<module>\u001b[0;34m()\u001b[0m\n",
      "\u001b[0;31mNameError\u001b[0m: name 'df1' is not defined"
     ]
    }
   ],
   "source": [
    "p=df.at[0,'..1']\n",
    "c=df.at[1,'..1']\n",
    "for k in col:\n",
    "    exec(\"df2['%s;%s;%s;%s'] = df1['%s']\"% (k,p,c,col[k],k),globals())\n",
    "    print(globals())#값을 리턴. 리턴값 리스트로 만들기"
   ]
  },
  {
   "cell_type": "code",
   "execution_count": 34,
   "metadata": {},
   "outputs": [
    {
     "ename": "TypeError",
     "evalue": "eval() arg 1 must be a string, bytes or code object",
     "output_type": "error",
     "traceback": [
      "\u001b[0;31m---------------------------------------------------------------------------\u001b[0m",
      "\u001b[0;31mTypeError\u001b[0m                                 Traceback (most recent call last)",
      "\u001b[0;32m<ipython-input-34-386ba257cd35>\u001b[0m in \u001b[0;36m<module>\u001b[0;34m()\u001b[0m\n\u001b[1;32m      1\u001b[0m \u001b[0mp\u001b[0m\u001b[0;34m=\u001b[0m\u001b[0mdf\u001b[0m\u001b[0;34m.\u001b[0m\u001b[0mat\u001b[0m\u001b[0;34m[\u001b[0m\u001b[0;36m0\u001b[0m\u001b[0;34m,\u001b[0m\u001b[0;34m'..1'\u001b[0m\u001b[0;34m]\u001b[0m\u001b[0;34m\u001b[0m\u001b[0m\n\u001b[1;32m      2\u001b[0m \u001b[0mc\u001b[0m\u001b[0;34m=\u001b[0m\u001b[0mdf\u001b[0m\u001b[0;34m.\u001b[0m\u001b[0mat\u001b[0m\u001b[0;34m[\u001b[0m\u001b[0;36m1\u001b[0m\u001b[0;34m,\u001b[0m\u001b[0;34m'..1'\u001b[0m\u001b[0;34m]\u001b[0m\u001b[0;34m\u001b[0m\u001b[0m\n\u001b[0;32m----> 3\u001b[0;31m \u001b[0mwhat_the\u001b[0m\u001b[0;34m=\u001b[0m\u001b[0;34m[\u001b[0m\u001b[0meval\u001b[0m\u001b[0;34m(\u001b[0m\u001b[0;34m\"df1['%s;%s;%s;%s'] = df1['%s']\"\u001b[0m\u001b[0;34m%\u001b[0m \u001b[0;34m(\u001b[0m\u001b[0mk\u001b[0m\u001b[0;34m,\u001b[0m\u001b[0mp\u001b[0m\u001b[0;34m,\u001b[0m\u001b[0mc\u001b[0m\u001b[0;34m,\u001b[0m\u001b[0mcol\u001b[0m\u001b[0;34m[\u001b[0m\u001b[0mk\u001b[0m\u001b[0;34m]\u001b[0m\u001b[0;34m,\u001b[0m\u001b[0mk\u001b[0m\u001b[0;34m)\u001b[0m \u001b[0;32mfor\u001b[0m \u001b[0mk\u001b[0m \u001b[0;32min\u001b[0m \u001b[0mcol\u001b[0m\u001b[0;34m)\u001b[0m\u001b[0;34m]\u001b[0m\u001b[0;34m\u001b[0m\u001b[0m\n\u001b[0m",
      "\u001b[0;31mTypeError\u001b[0m: eval() arg 1 must be a string, bytes or code object"
     ]
    }
   ],
   "source": [
    "p=df.at[0,'..1']\n",
    "c=df.at[1,'..1']\n",
    "what_the=[exec(\"df1['%s;%s;%s;%s'] = df1['%s']\"% (k,p,c,col[k],k) for k in col)]"
   ]
  },
  {
   "cell_type": "code",
   "execution_count": 66,
   "metadata": {},
   "outputs": [
    {
     "ename": "KeyError",
     "evalue": "\"df1['GSM435948;5(week);leaf;none'] = df1['GSM435948']\"",
     "output_type": "error",
     "traceback": [
      "\u001b[0;31m---------------------------------------------------------------------------\u001b[0m",
      "\u001b[0;31mKeyError\u001b[0m                                  Traceback (most recent call last)",
      "\u001b[0;32m<ipython-input-66-a56497ad3a7b>\u001b[0m in \u001b[0;36m<module>\u001b[0;34m()\u001b[0m\n\u001b[0;32m----> 1\u001b[0;31m \u001b[0mglobals\u001b[0m\u001b[0;34m(\u001b[0m\u001b[0;34m)\u001b[0m\u001b[0;34m[\u001b[0m\u001b[0;34m\"df1['GSM435948;5(week);leaf;none'] = df1['GSM435948']\"\u001b[0m\u001b[0;34m]\u001b[0m\u001b[0;34m\u001b[0m\u001b[0m\n\u001b[0m",
      "\u001b[0;31mKeyError\u001b[0m: \"df1['GSM435948;5(week);leaf;none'] = df1['GSM435948']\""
     ]
    }
   ],
   "source": [
    "globals()[\"df1['GSM435948;5(week);leaf;none'] = df1['GSM435948']\"]"
   ]
  },
  {
   "cell_type": "code",
   "execution_count": 49,
   "metadata": {},
   "outputs": [
    {
     "data": {
      "text/plain": [
       "[None]"
      ]
     },
     "execution_count": 49,
     "metadata": {},
     "output_type": "execute_result"
    }
   ],
   "source": [
    "xxxx"
   ]
  },
  {
   "cell_type": "code",
   "execution_count": 30,
   "metadata": {},
   "outputs": [
    {
     "data": {
      "text/plain": [
       "[None, None, None, None, None, None, None, None, None, None, None, None]"
      ]
     },
     "execution_count": 30,
     "metadata": {},
     "output_type": "execute_result"
    }
   ],
   "source": [
    "what_the"
   ]
  },
  {
   "cell_type": "code",
   "execution_count": null,
   "metadata": {},
   "outputs": [],
   "source": [
    "p=df.at[0,'..1']\n",
    "c=df.at[1,'..1']\n",
    "name_list=[\"%s;%s;%s;%s\"% (k,p,c,col[k]) for k in abc]"
   ]
  },
  {
   "cell_type": "code",
   "execution_count": 26,
   "metadata": {},
   "outputs": [
    {
     "data": {
      "text/plain": [
       "0         7.004144\n",
       "1         5.042389\n",
       "2         6.866617\n",
       "3        10.210871\n",
       "4         8.339812\n",
       "5         7.677254\n",
       "6         9.451029\n",
       "7        11.512369\n",
       "8        12.529352\n",
       "9         4.663078\n",
       "10        7.589900\n",
       "11        5.326378\n",
       "12       10.013691\n",
       "13        3.527284\n",
       "14        8.570607\n",
       "15       11.928504\n",
       "16        4.655258\n",
       "17        5.170216\n",
       "18        7.766084\n",
       "19        5.283278\n",
       "20       11.288387\n",
       "21       10.881808\n",
       "22        5.756881\n",
       "23        7.408737\n",
       "24        3.899902\n",
       "25        8.191440\n",
       "26        8.182098\n",
       "27        3.690005\n",
       "28        9.089338\n",
       "29        5.441153\n",
       "           ...    \n",
       "20569     4.164324\n",
       "20570     4.918350\n",
       "20571     5.173453\n",
       "20572     5.317530\n",
       "20573     3.461672\n",
       "20574     7.997996\n",
       "20575     6.015622\n",
       "20576     4.052800\n",
       "20577     5.013216\n",
       "20578     4.313470\n",
       "20579     4.656203\n",
       "20580     5.040531\n",
       "20581     7.032495\n",
       "20582     6.181338\n",
       "20583     5.672712\n",
       "20584     6.742005\n",
       "20585     6.004003\n",
       "20586     3.820304\n",
       "20587     7.248599\n",
       "20588     5.065815\n",
       "20589     5.583900\n",
       "20590     4.872085\n",
       "20591     5.473974\n",
       "20592     5.346657\n",
       "20593     4.947110\n",
       "20594     5.818068\n",
       "20595     8.735355\n",
       "20596     8.617316\n",
       "20597     4.398791\n",
       "20598     5.495326\n",
       "Name: GSM435954;5(week);leaf;1-naphthylacetic acid, Length: 20599, dtype: float64"
      ]
     },
     "execution_count": 26,
     "metadata": {},
     "output_type": "execute_result"
    }
   ],
   "source": [
    "df1['GSM435954;5(week);leaf;1-naphthylacetic acid']"
   ]
  },
  {
   "cell_type": "code",
   "execution_count": 25,
   "metadata": {},
   "outputs": [
    {
     "ename": "KeyError",
     "evalue": "'GSM435948;5(week);leaf;1-naphthylacetic acid'",
     "output_type": "error",
     "traceback": [
      "\u001b[0;31m---------------------------------------------------------------------------\u001b[0m",
      "\u001b[0;31mKeyError\u001b[0m                                  Traceback (most recent call last)",
      "\u001b[0;32m/usr/local/lib/python3.5/dist-packages/pandas/core/indexes/base.py\u001b[0m in \u001b[0;36mget_loc\u001b[0;34m(self, key, method, tolerance)\u001b[0m\n\u001b[1;32m   2524\u001b[0m             \u001b[0;32mtry\u001b[0m\u001b[0;34m:\u001b[0m\u001b[0;34m\u001b[0m\u001b[0m\n\u001b[0;32m-> 2525\u001b[0;31m                 \u001b[0;32mreturn\u001b[0m \u001b[0mself\u001b[0m\u001b[0;34m.\u001b[0m\u001b[0m_engine\u001b[0m\u001b[0;34m.\u001b[0m\u001b[0mget_loc\u001b[0m\u001b[0;34m(\u001b[0m\u001b[0mkey\u001b[0m\u001b[0;34m)\u001b[0m\u001b[0;34m\u001b[0m\u001b[0m\n\u001b[0m\u001b[1;32m   2526\u001b[0m             \u001b[0;32mexcept\u001b[0m \u001b[0mKeyError\u001b[0m\u001b[0;34m:\u001b[0m\u001b[0;34m\u001b[0m\u001b[0m\n",
      "\u001b[0;32mpandas/_libs/index.pyx\u001b[0m in \u001b[0;36mpandas._libs.index.IndexEngine.get_loc\u001b[0;34m()\u001b[0m\n",
      "\u001b[0;32mpandas/_libs/index.pyx\u001b[0m in \u001b[0;36mpandas._libs.index.IndexEngine.get_loc\u001b[0;34m()\u001b[0m\n",
      "\u001b[0;32mpandas/_libs/hashtable_class_helper.pxi\u001b[0m in \u001b[0;36mpandas._libs.hashtable.PyObjectHashTable.get_item\u001b[0;34m()\u001b[0m\n",
      "\u001b[0;32mpandas/_libs/hashtable_class_helper.pxi\u001b[0m in \u001b[0;36mpandas._libs.hashtable.PyObjectHashTable.get_item\u001b[0;34m()\u001b[0m\n",
      "\u001b[0;31mKeyError\u001b[0m: 'GSM435948;5(week);leaf;1-naphthylacetic acid'",
      "\nDuring handling of the above exception, another exception occurred:\n",
      "\u001b[0;31mKeyError\u001b[0m                                  Traceback (most recent call last)",
      "\u001b[0;32m<ipython-input-25-e6293a62ba39>\u001b[0m in \u001b[0;36m<module>\u001b[0;34m()\u001b[0m\n\u001b[0;32m----> 1\u001b[0;31m \u001b[0;34m[\u001b[0m\u001b[0mdf1\u001b[0m\u001b[0;34m[\u001b[0m\u001b[0;34m'GSM435948;5(week);leaf;%s'\u001b[0m\u001b[0;34m%\u001b[0m\u001b[0mx\u001b[0m\u001b[0;34m]\u001b[0m  \u001b[0;32mfor\u001b[0m \u001b[0mx\u001b[0m \u001b[0;32min\u001b[0m \u001b[0mabc\u001b[0m\u001b[0;34m]\u001b[0m\u001b[0;34m\u001b[0m\u001b[0m\n\u001b[0m",
      "\u001b[0;32m<ipython-input-25-e6293a62ba39>\u001b[0m in \u001b[0;36m<listcomp>\u001b[0;34m(.0)\u001b[0m\n\u001b[0;32m----> 1\u001b[0;31m \u001b[0;34m[\u001b[0m\u001b[0mdf1\u001b[0m\u001b[0;34m[\u001b[0m\u001b[0;34m'GSM435948;5(week);leaf;%s'\u001b[0m\u001b[0;34m%\u001b[0m\u001b[0mx\u001b[0m\u001b[0;34m]\u001b[0m  \u001b[0;32mfor\u001b[0m \u001b[0mx\u001b[0m \u001b[0;32min\u001b[0m \u001b[0mabc\u001b[0m\u001b[0;34m]\u001b[0m\u001b[0;34m\u001b[0m\u001b[0m\n\u001b[0m",
      "\u001b[0;32m/usr/local/lib/python3.5/dist-packages/pandas/core/frame.py\u001b[0m in \u001b[0;36m__getitem__\u001b[0;34m(self, key)\u001b[0m\n\u001b[1;32m   2137\u001b[0m             \u001b[0;32mreturn\u001b[0m \u001b[0mself\u001b[0m\u001b[0;34m.\u001b[0m\u001b[0m_getitem_multilevel\u001b[0m\u001b[0;34m(\u001b[0m\u001b[0mkey\u001b[0m\u001b[0;34m)\u001b[0m\u001b[0;34m\u001b[0m\u001b[0m\n\u001b[1;32m   2138\u001b[0m         \u001b[0;32melse\u001b[0m\u001b[0;34m:\u001b[0m\u001b[0;34m\u001b[0m\u001b[0m\n\u001b[0;32m-> 2139\u001b[0;31m             \u001b[0;32mreturn\u001b[0m \u001b[0mself\u001b[0m\u001b[0;34m.\u001b[0m\u001b[0m_getitem_column\u001b[0m\u001b[0;34m(\u001b[0m\u001b[0mkey\u001b[0m\u001b[0;34m)\u001b[0m\u001b[0;34m\u001b[0m\u001b[0m\n\u001b[0m\u001b[1;32m   2140\u001b[0m \u001b[0;34m\u001b[0m\u001b[0m\n\u001b[1;32m   2141\u001b[0m     \u001b[0;32mdef\u001b[0m \u001b[0m_getitem_column\u001b[0m\u001b[0;34m(\u001b[0m\u001b[0mself\u001b[0m\u001b[0;34m,\u001b[0m \u001b[0mkey\u001b[0m\u001b[0;34m)\u001b[0m\u001b[0;34m:\u001b[0m\u001b[0;34m\u001b[0m\u001b[0m\n",
      "\u001b[0;32m/usr/local/lib/python3.5/dist-packages/pandas/core/frame.py\u001b[0m in \u001b[0;36m_getitem_column\u001b[0;34m(self, key)\u001b[0m\n\u001b[1;32m   2144\u001b[0m         \u001b[0;31m# get column\u001b[0m\u001b[0;34m\u001b[0m\u001b[0;34m\u001b[0m\u001b[0m\n\u001b[1;32m   2145\u001b[0m         \u001b[0;32mif\u001b[0m \u001b[0mself\u001b[0m\u001b[0;34m.\u001b[0m\u001b[0mcolumns\u001b[0m\u001b[0;34m.\u001b[0m\u001b[0mis_unique\u001b[0m\u001b[0;34m:\u001b[0m\u001b[0;34m\u001b[0m\u001b[0m\n\u001b[0;32m-> 2146\u001b[0;31m             \u001b[0;32mreturn\u001b[0m \u001b[0mself\u001b[0m\u001b[0;34m.\u001b[0m\u001b[0m_get_item_cache\u001b[0m\u001b[0;34m(\u001b[0m\u001b[0mkey\u001b[0m\u001b[0;34m)\u001b[0m\u001b[0;34m\u001b[0m\u001b[0m\n\u001b[0m\u001b[1;32m   2147\u001b[0m \u001b[0;34m\u001b[0m\u001b[0m\n\u001b[1;32m   2148\u001b[0m         \u001b[0;31m# duplicate columns & possible reduce dimensionality\u001b[0m\u001b[0;34m\u001b[0m\u001b[0;34m\u001b[0m\u001b[0m\n",
      "\u001b[0;32m/usr/local/lib/python3.5/dist-packages/pandas/core/generic.py\u001b[0m in \u001b[0;36m_get_item_cache\u001b[0;34m(self, item)\u001b[0m\n\u001b[1;32m   1840\u001b[0m         \u001b[0mres\u001b[0m \u001b[0;34m=\u001b[0m \u001b[0mcache\u001b[0m\u001b[0;34m.\u001b[0m\u001b[0mget\u001b[0m\u001b[0;34m(\u001b[0m\u001b[0mitem\u001b[0m\u001b[0;34m)\u001b[0m\u001b[0;34m\u001b[0m\u001b[0m\n\u001b[1;32m   1841\u001b[0m         \u001b[0;32mif\u001b[0m \u001b[0mres\u001b[0m \u001b[0;32mis\u001b[0m \u001b[0;32mNone\u001b[0m\u001b[0;34m:\u001b[0m\u001b[0;34m\u001b[0m\u001b[0m\n\u001b[0;32m-> 1842\u001b[0;31m             \u001b[0mvalues\u001b[0m \u001b[0;34m=\u001b[0m \u001b[0mself\u001b[0m\u001b[0;34m.\u001b[0m\u001b[0m_data\u001b[0m\u001b[0;34m.\u001b[0m\u001b[0mget\u001b[0m\u001b[0;34m(\u001b[0m\u001b[0mitem\u001b[0m\u001b[0;34m)\u001b[0m\u001b[0;34m\u001b[0m\u001b[0m\n\u001b[0m\u001b[1;32m   1843\u001b[0m             \u001b[0mres\u001b[0m \u001b[0;34m=\u001b[0m \u001b[0mself\u001b[0m\u001b[0;34m.\u001b[0m\u001b[0m_box_item_values\u001b[0m\u001b[0;34m(\u001b[0m\u001b[0mitem\u001b[0m\u001b[0;34m,\u001b[0m \u001b[0mvalues\u001b[0m\u001b[0;34m)\u001b[0m\u001b[0;34m\u001b[0m\u001b[0m\n\u001b[1;32m   1844\u001b[0m             \u001b[0mcache\u001b[0m\u001b[0;34m[\u001b[0m\u001b[0mitem\u001b[0m\u001b[0;34m]\u001b[0m \u001b[0;34m=\u001b[0m \u001b[0mres\u001b[0m\u001b[0;34m\u001b[0m\u001b[0m\n",
      "\u001b[0;32m/usr/local/lib/python3.5/dist-packages/pandas/core/internals.py\u001b[0m in \u001b[0;36mget\u001b[0;34m(self, item, fastpath)\u001b[0m\n\u001b[1;32m   3841\u001b[0m \u001b[0;34m\u001b[0m\u001b[0m\n\u001b[1;32m   3842\u001b[0m             \u001b[0;32mif\u001b[0m \u001b[0;32mnot\u001b[0m \u001b[0misna\u001b[0m\u001b[0;34m(\u001b[0m\u001b[0mitem\u001b[0m\u001b[0;34m)\u001b[0m\u001b[0;34m:\u001b[0m\u001b[0;34m\u001b[0m\u001b[0m\n\u001b[0;32m-> 3843\u001b[0;31m                 \u001b[0mloc\u001b[0m \u001b[0;34m=\u001b[0m \u001b[0mself\u001b[0m\u001b[0;34m.\u001b[0m\u001b[0mitems\u001b[0m\u001b[0;34m.\u001b[0m\u001b[0mget_loc\u001b[0m\u001b[0;34m(\u001b[0m\u001b[0mitem\u001b[0m\u001b[0;34m)\u001b[0m\u001b[0;34m\u001b[0m\u001b[0m\n\u001b[0m\u001b[1;32m   3844\u001b[0m             \u001b[0;32melse\u001b[0m\u001b[0;34m:\u001b[0m\u001b[0;34m\u001b[0m\u001b[0m\n\u001b[1;32m   3845\u001b[0m                 \u001b[0mindexer\u001b[0m \u001b[0;34m=\u001b[0m \u001b[0mnp\u001b[0m\u001b[0;34m.\u001b[0m\u001b[0marange\u001b[0m\u001b[0;34m(\u001b[0m\u001b[0mlen\u001b[0m\u001b[0;34m(\u001b[0m\u001b[0mself\u001b[0m\u001b[0;34m.\u001b[0m\u001b[0mitems\u001b[0m\u001b[0;34m)\u001b[0m\u001b[0;34m)\u001b[0m\u001b[0;34m[\u001b[0m\u001b[0misna\u001b[0m\u001b[0;34m(\u001b[0m\u001b[0mself\u001b[0m\u001b[0;34m.\u001b[0m\u001b[0mitems\u001b[0m\u001b[0;34m)\u001b[0m\u001b[0;34m]\u001b[0m\u001b[0;34m\u001b[0m\u001b[0m\n",
      "\u001b[0;32m/usr/local/lib/python3.5/dist-packages/pandas/core/indexes/base.py\u001b[0m in \u001b[0;36mget_loc\u001b[0;34m(self, key, method, tolerance)\u001b[0m\n\u001b[1;32m   2525\u001b[0m                 \u001b[0;32mreturn\u001b[0m \u001b[0mself\u001b[0m\u001b[0;34m.\u001b[0m\u001b[0m_engine\u001b[0m\u001b[0;34m.\u001b[0m\u001b[0mget_loc\u001b[0m\u001b[0;34m(\u001b[0m\u001b[0mkey\u001b[0m\u001b[0;34m)\u001b[0m\u001b[0;34m\u001b[0m\u001b[0m\n\u001b[1;32m   2526\u001b[0m             \u001b[0;32mexcept\u001b[0m \u001b[0mKeyError\u001b[0m\u001b[0;34m:\u001b[0m\u001b[0;34m\u001b[0m\u001b[0m\n\u001b[0;32m-> 2527\u001b[0;31m                 \u001b[0;32mreturn\u001b[0m \u001b[0mself\u001b[0m\u001b[0;34m.\u001b[0m\u001b[0m_engine\u001b[0m\u001b[0;34m.\u001b[0m\u001b[0mget_loc\u001b[0m\u001b[0;34m(\u001b[0m\u001b[0mself\u001b[0m\u001b[0;34m.\u001b[0m\u001b[0m_maybe_cast_indexer\u001b[0m\u001b[0;34m(\u001b[0m\u001b[0mkey\u001b[0m\u001b[0;34m)\u001b[0m\u001b[0;34m)\u001b[0m\u001b[0;34m\u001b[0m\u001b[0m\n\u001b[0m\u001b[1;32m   2528\u001b[0m \u001b[0;34m\u001b[0m\u001b[0m\n\u001b[1;32m   2529\u001b[0m         \u001b[0mindexer\u001b[0m \u001b[0;34m=\u001b[0m \u001b[0mself\u001b[0m\u001b[0;34m.\u001b[0m\u001b[0mget_indexer\u001b[0m\u001b[0;34m(\u001b[0m\u001b[0;34m[\u001b[0m\u001b[0mkey\u001b[0m\u001b[0;34m]\u001b[0m\u001b[0;34m,\u001b[0m \u001b[0mmethod\u001b[0m\u001b[0;34m=\u001b[0m\u001b[0mmethod\u001b[0m\u001b[0;34m,\u001b[0m \u001b[0mtolerance\u001b[0m\u001b[0;34m=\u001b[0m\u001b[0mtolerance\u001b[0m\u001b[0;34m)\u001b[0m\u001b[0;34m\u001b[0m\u001b[0m\n",
      "\u001b[0;32mpandas/_libs/index.pyx\u001b[0m in \u001b[0;36mpandas._libs.index.IndexEngine.get_loc\u001b[0;34m()\u001b[0m\n",
      "\u001b[0;32mpandas/_libs/index.pyx\u001b[0m in \u001b[0;36mpandas._libs.index.IndexEngine.get_loc\u001b[0;34m()\u001b[0m\n",
      "\u001b[0;32mpandas/_libs/hashtable_class_helper.pxi\u001b[0m in \u001b[0;36mpandas._libs.hashtable.PyObjectHashTable.get_item\u001b[0;34m()\u001b[0m\n",
      "\u001b[0;32mpandas/_libs/hashtable_class_helper.pxi\u001b[0m in \u001b[0;36mpandas._libs.hashtable.PyObjectHashTable.get_item\u001b[0;34m()\u001b[0m\n",
      "\u001b[0;31mKeyError\u001b[0m: 'GSM435948;5(week);leaf;1-naphthylacetic acid'"
     ]
    }
   ],
   "source": [
    "[df1['GSM435948;5(week);leaf;%s'%x]  for x in abc] #"
   ]
  },
  {
   "cell_type": "code",
   "execution_count": 223,
   "metadata": {},
   "outputs": [
    {
     "data": {
      "text/plain": [
       "[\"df1['GSM435938;5(week);leaf;1-naphthylacetic acid'] = df1['GSM435938']\",\n",
       " \"df1['GSM435948;5(week);leaf;none'] = df1['GSM435948']\",\n",
       " \"df1['GSM435933;5(week);leaf;none'] = df1['GSM435933']\",\n",
       " \"df1['Gene ID;5(week);leaf;#compound'] = df1['Gene ID']\",\n",
       " \"df1['GSM435968;5(week);leaf;1-naphthylacetic acid'] = df1['GSM435968']\",\n",
       " \"df1['DesignElementAccession;5(week);leaf;.'] = df1['DesignElementAccession']\",\n",
       " \"df1['GSM435963;5(week);leaf;none'] = df1['GSM435963']\",\n",
       " \"df1['GSM435939;5(week);leaf;1-naphthylacetic acid'] = df1['GSM435939']\",\n",
       " \"df1['GSM435940;5(week);leaf;1-naphthylacetic acid'] = df1['GSM435940']\"]"
      ]
     },
     "execution_count": 223,
     "metadata": {},
     "output_type": "execute_result"
    }
   ],
   "source": [
    "ab[3:]"
   ]
  },
  {
   "cell_type": "code",
   "execution_count": 205,
   "metadata": {},
   "outputs": [],
   "source": [
    "df1['GSM435940;5(week);leaf;1-naphthylacetic acid'] = df1['GSM435940']"
   ]
  },
  {
   "cell_type": "code",
   "execution_count": 206,
   "metadata": {},
   "outputs": [
    {
     "data": {
      "text/plain": [
       "0         8.337849\n",
       "1         5.552107\n",
       "2         6.251746\n",
       "3        10.404262\n",
       "4        11.186255\n",
       "5         6.111227\n",
       "6         8.900753\n",
       "7        11.282831\n",
       "8        12.325136\n",
       "9         4.431137\n",
       "10       10.166767\n",
       "11        5.591743\n",
       "12        9.822468\n",
       "13        3.548141\n",
       "14        8.140093\n",
       "15       10.897016\n",
       "16        4.866379\n",
       "17        5.379527\n",
       "18        6.853911\n",
       "19        5.620616\n",
       "20       11.222627\n",
       "21        9.321020\n",
       "22        6.068958\n",
       "23        9.053836\n",
       "24        3.968746\n",
       "25        7.236792\n",
       "26        7.779470\n",
       "27        3.848177\n",
       "28        8.415759\n",
       "29        5.434222\n",
       "           ...    \n",
       "20569     4.248847\n",
       "20570     5.285090\n",
       "20571     5.547282\n",
       "20572     5.592071\n",
       "20573     3.650166\n",
       "20574     8.147890\n",
       "20575     6.250407\n",
       "20576     4.283750\n",
       "20577     4.973465\n",
       "20578     4.650602\n",
       "20579     4.783989\n",
       "20580     5.081963\n",
       "20581     7.643882\n",
       "20582     6.788418\n",
       "20583     5.912363\n",
       "20584     7.488875\n",
       "20585     6.720204\n",
       "20586     4.102726\n",
       "20587     7.926294\n",
       "20588     5.481493\n",
       "20589     5.769906\n",
       "20590     5.071442\n",
       "20591     5.676003\n",
       "20592     5.535550\n",
       "20593     4.390798\n",
       "20594     5.913053\n",
       "20595     9.275081\n",
       "20596     9.283843\n",
       "20597     4.159760\n",
       "20598     6.190185\n",
       "Name: GSM435940;5(week);leaf;1-naphthylacetic acid, Length: 20599, dtype: float64"
      ]
     },
     "execution_count": 206,
     "metadata": {},
     "output_type": "execute_result"
    }
   ],
   "source": [
    "df1['GSM435940;5(week);leaf;1-naphthylacetic acid'] "
   ]
  },
  {
   "cell_type": "code",
   "execution_count": 202,
   "metadata": {},
   "outputs": [],
   "source": [
    "p=df.at[0,'..1']\n",
    "c=df.at[1,'..1']\n",
    "name_list=[\"%s;%s;%s;%s\"% (k,p,c,col[k]) for k in abc]"
   ]
  },
  {
   "cell_type": "code",
   "execution_count": 195,
   "metadata": {},
   "outputs": [],
   "source": [
    "abd=list(name_list[3:])"
   ]
  },
  {
   "cell_type": "code",
   "execution_count": 196,
   "metadata": {},
   "outputs": [
    {
     "data": {
      "text/plain": [
       "['GSM435954;5(week);leaf;1-naphthylacetic acid',\n",
       " 'GSM435939;5(week);leaf;1-naphthylacetic acid',\n",
       " 'GSM435933;5(week);leaf;none',\n",
       " 'GSM435948;5(week);leaf;none',\n",
       " 'GSM435940;5(week);leaf;1-naphthylacetic acid',\n",
       " 'GSM435938;5(week);leaf;1-naphthylacetic acid',\n",
       " 'GSM435963;5(week);leaf;none',\n",
       " 'GSM435969;5(week);leaf;1-naphthylacetic acid',\n",
       " 'GSM435968;5(week);leaf;1-naphthylacetic acid']"
      ]
     },
     "execution_count": 196,
     "metadata": {},
     "output_type": "execute_result"
    }
   ],
   "source": [
    "abd"
   ]
  },
  {
   "cell_type": "code",
   "execution_count": 201,
   "metadata": {},
   "outputs": [
    {
     "ename": "SyntaxError",
     "evalue": "invalid syntax (<ipython-input-201-a6c0e2e69d66>, line 1)",
     "output_type": "error",
     "traceback": [
      "\u001b[0;36m  File \u001b[0;32m\"<ipython-input-201-a6c0e2e69d66>\"\u001b[0;36m, line \u001b[0;32m1\u001b[0m\n\u001b[0;31m    [df1['%s'%x]=df[a] for x in abd]\u001b[0m\n\u001b[0m                ^\u001b[0m\n\u001b[0;31mSyntaxError\u001b[0m\u001b[0;31m:\u001b[0m invalid syntax\n"
     ]
    }
   ],
   "source": [
    "[df1['%s'%x]= df[a] for x in abd]"
   ]
  },
  {
   "cell_type": "code",
   "execution_count": 171,
   "metadata": {},
   "outputs": [
    {
     "ename": "ValueError",
     "evalue": "can not merge DataFrame with instance of type <class 'str'>",
     "output_type": "error",
     "traceback": [
      "\u001b[0;31m---------------------------------------------------------------------------\u001b[0m",
      "\u001b[0;31mValueError\u001b[0m                                Traceback (most recent call last)",
      "\u001b[0;32m<ipython-input-171-a9504e903854>\u001b[0m in \u001b[0;36m<module>\u001b[0;34m()\u001b[0m\n\u001b[0;32m----> 1\u001b[0;31m \u001b[0mdf_mat\u001b[0m \u001b[0;34m=\u001b[0m \u001b[0mreduce\u001b[0m\u001b[0;34m(\u001b[0m\u001b[0;32mlambda\u001b[0m \u001b[0ma\u001b[0m\u001b[0;34m,\u001b[0m\u001b[0mb\u001b[0m \u001b[0;34m:\u001b[0m \u001b[0mpd\u001b[0m\u001b[0;34m.\u001b[0m\u001b[0mmerge\u001b[0m\u001b[0;34m(\u001b[0m\u001b[0ma\u001b[0m\u001b[0;34m,\u001b[0m\u001b[0mb\u001b[0m\u001b[0;34m,\u001b[0m\u001b[0mhow\u001b[0m\u001b[0;34m=\u001b[0m\u001b[0;34m'outer'\u001b[0m\u001b[0;34m)\u001b[0m\u001b[0;34m,\u001b[0m\u001b[0mdf_list\u001b[0m\u001b[0;34m)\u001b[0m\u001b[0;34m\u001b[0m\u001b[0m\n\u001b[0m",
      "\u001b[0;32m<ipython-input-171-a9504e903854>\u001b[0m in \u001b[0;36m<lambda>\u001b[0;34m(a, b)\u001b[0m\n\u001b[0;32m----> 1\u001b[0;31m \u001b[0mdf_mat\u001b[0m \u001b[0;34m=\u001b[0m \u001b[0mreduce\u001b[0m\u001b[0;34m(\u001b[0m\u001b[0;32mlambda\u001b[0m \u001b[0ma\u001b[0m\u001b[0;34m,\u001b[0m\u001b[0mb\u001b[0m \u001b[0;34m:\u001b[0m \u001b[0mpd\u001b[0m\u001b[0;34m.\u001b[0m\u001b[0mmerge\u001b[0m\u001b[0;34m(\u001b[0m\u001b[0ma\u001b[0m\u001b[0;34m,\u001b[0m\u001b[0mb\u001b[0m\u001b[0;34m,\u001b[0m\u001b[0mhow\u001b[0m\u001b[0;34m=\u001b[0m\u001b[0;34m'outer'\u001b[0m\u001b[0;34m)\u001b[0m\u001b[0;34m,\u001b[0m\u001b[0mdf_list\u001b[0m\u001b[0;34m)\u001b[0m\u001b[0;34m\u001b[0m\u001b[0m\n\u001b[0m",
      "\u001b[0;32m/usr/local/lib/python3.5/dist-packages/pandas/core/reshape/merge.py\u001b[0m in \u001b[0;36mmerge\u001b[0;34m(left, right, how, on, left_on, right_on, left_index, right_index, sort, suffixes, copy, indicator, validate)\u001b[0m\n\u001b[1;32m     55\u001b[0m                          \u001b[0mright_index\u001b[0m\u001b[0;34m=\u001b[0m\u001b[0mright_index\u001b[0m\u001b[0;34m,\u001b[0m \u001b[0msort\u001b[0m\u001b[0;34m=\u001b[0m\u001b[0msort\u001b[0m\u001b[0;34m,\u001b[0m \u001b[0msuffixes\u001b[0m\u001b[0;34m=\u001b[0m\u001b[0msuffixes\u001b[0m\u001b[0;34m,\u001b[0m\u001b[0;34m\u001b[0m\u001b[0m\n\u001b[1;32m     56\u001b[0m                          \u001b[0mcopy\u001b[0m\u001b[0;34m=\u001b[0m\u001b[0mcopy\u001b[0m\u001b[0;34m,\u001b[0m \u001b[0mindicator\u001b[0m\u001b[0;34m=\u001b[0m\u001b[0mindicator\u001b[0m\u001b[0;34m,\u001b[0m\u001b[0;34m\u001b[0m\u001b[0m\n\u001b[0;32m---> 57\u001b[0;31m                          validate=validate)\n\u001b[0m\u001b[1;32m     58\u001b[0m     \u001b[0;32mreturn\u001b[0m \u001b[0mop\u001b[0m\u001b[0;34m.\u001b[0m\u001b[0mget_result\u001b[0m\u001b[0;34m(\u001b[0m\u001b[0;34m)\u001b[0m\u001b[0;34m\u001b[0m\u001b[0m\n\u001b[1;32m     59\u001b[0m \u001b[0;34m\u001b[0m\u001b[0m\n",
      "\u001b[0;32m/usr/local/lib/python3.5/dist-packages/pandas/core/reshape/merge.py\u001b[0m in \u001b[0;36m__init__\u001b[0;34m(self, left, right, how, on, left_on, right_on, axis, left_index, right_index, sort, suffixes, copy, indicator, validate)\u001b[0m\n\u001b[1;32m    536\u001b[0m         \u001b[0;32mif\u001b[0m \u001b[0;32mnot\u001b[0m \u001b[0misinstance\u001b[0m\u001b[0;34m(\u001b[0m\u001b[0mleft\u001b[0m\u001b[0;34m,\u001b[0m \u001b[0mDataFrame\u001b[0m\u001b[0;34m)\u001b[0m\u001b[0;34m:\u001b[0m\u001b[0;34m\u001b[0m\u001b[0m\n\u001b[1;32m    537\u001b[0m             raise ValueError('can not merge DataFrame with instance of '\n\u001b[0;32m--> 538\u001b[0;31m                              'type {left}'.format(left=type(left)))\n\u001b[0m\u001b[1;32m    539\u001b[0m         \u001b[0;32mif\u001b[0m \u001b[0;32mnot\u001b[0m \u001b[0misinstance\u001b[0m\u001b[0;34m(\u001b[0m\u001b[0mright\u001b[0m\u001b[0;34m,\u001b[0m \u001b[0mDataFrame\u001b[0m\u001b[0;34m)\u001b[0m\u001b[0;34m:\u001b[0m\u001b[0;34m\u001b[0m\u001b[0m\n\u001b[1;32m    540\u001b[0m             raise ValueError('can not merge DataFrame with instance of '\n",
      "\u001b[0;31mValueError\u001b[0m: can not merge DataFrame with instance of type <class 'str'>"
     ]
    }
   ],
   "source": [
    "df_mat = reduce(lambda a,b : pd.merge(a,b,how='outer'),df_list)"
   ]
  },
  {
   "cell_type": "code",
   "execution_count": null,
   "metadata": {},
   "outputs": [],
   "source": []
  },
  {
   "cell_type": "code",
   "execution_count": null,
   "metadata": {},
   "outputs": [],
   "source": []
  },
  {
   "cell_type": "code",
   "execution_count": 17,
   "metadata": {},
   "outputs": [],
   "source": [
    "file_dc = {}"
   ]
  },
  {
   "cell_type": "code",
   "execution_count": null,
   "metadata": {},
   "outputs": [],
   "source": []
  },
  {
   "cell_type": "code",
   "execution_count": 18,
   "metadata": {},
   "outputs": [
    {
     "name": "stdout",
     "output_type": "stream",
     "text": [
      "{'Gene Name': []}\n",
      "{'GSM435939': []}\n",
      "{'GSM435963': []}\n",
      "{'DesignElementAccession': []}\n",
      "{'GSM435948': []}\n",
      "{'GSM435969': []}\n",
      "{'GSM435933': []}\n",
      "{'GSM435940': []}\n",
      "{'GSM435968': []}\n",
      "{'GSM435938': []}\n",
      "{'Gene ID': []}\n",
      "{'GSM435954': []}\n"
     ]
    }
   ],
   "source": [
    "for x in col:\n",
    "    file_dc={x:[]}\n",
    "    print (file_dc)"
   ]
  },
  {
   "cell_type": "code",
   "execution_count": 22,
   "metadata": {},
   "outputs": [],
   "source": [
    "file_dc['GSM435954'].append(123)"
   ]
  },
  {
   "cell_type": "code",
   "execution_count": 23,
   "metadata": {},
   "outputs": [
    {
     "data": {
      "text/plain": [
       "[123]"
      ]
     },
     "execution_count": 23,
     "metadata": {},
     "output_type": "execute_result"
    }
   ],
   "source": [
    "file_dc['GSM435954']"
   ]
  },
  {
   "cell_type": "code",
   "execution_count": null,
   "metadata": {},
   "outputs": [],
   "source": [
    "df2 = DataFrame({\"c1\":[1,2,3], \"c2\":[11,22,33], \"c3\":[111,222,333]})\n",
    "\n",
    "+for 문 2개 이용해서 내일 해보자."
   ]
  }
 ],
 "metadata": {
  "kernelspec": {
   "display_name": "Python 3",
   "language": "python",
   "name": "python3"
  },
  "language_info": {
   "codemirror_mode": {
    "name": "ipython",
    "version": 3
   },
   "file_extension": ".py",
   "mimetype": "text/x-python",
   "name": "python",
   "nbconvert_exporter": "python",
   "pygments_lexer": "ipython3",
   "version": "3.5.2"
  }
 },
 "nbformat": 4,
 "nbformat_minor": 2
}
