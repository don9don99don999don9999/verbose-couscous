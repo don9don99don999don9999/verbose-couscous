{
 "cells": [
  {
   "cell_type": "code",
   "execution_count": 1,
   "metadata": {},
   "outputs": [],
   "source": [
    "import pandas as pd\n",
    "import glob\n",
    "import os\n",
    "path = '/root/Downloads/jupyter/Atlas/' \n",
    "all_files = glob.glob(os.path.join(path,\"Tran*\"))\n",
    "merged = pd.concat((pd.read_csv(f,comment='#',delimiter=',') for f in all_files),axis=1)"
   ]
  },
  {
   "cell_type": "code",
   "execution_count": 122,
   "metadata": {},
   "outputs": [
    {
     "data": {
      "text/html": [
       "<div>\n",
       "<style scoped>\n",
       "    .dataframe tbody tr th:only-of-type {\n",
       "        vertical-align: middle;\n",
       "    }\n",
       "\n",
       "    .dataframe tbody tr th {\n",
       "        vertical-align: top;\n",
       "    }\n",
       "\n",
       "    .dataframe thead th {\n",
       "        text-align: right;\n",
       "    }\n",
       "</style>\n",
       "<table border=\"1\" class=\"dataframe\">\n",
       "  <thead>\n",
       "    <tr style=\"text-align: right;\">\n",
       "      <th></th>\n",
       "      <th>Gene ID</th>\n",
       "      <th>Gene Name</th>\n",
       "      <th>DesignElementAccession</th>\n",
       "      <th>Quint_2-80_BI-1-1h_Rep2_ATH1</th>\n",
       "      <th>Quint_2-41_Bur-0-30min_Rep2_ATH1</th>\n",
       "      <th>Quint_2-51_Fei-0-0h_Rep3_ATH1</th>\n",
       "      <th>Quint_2-71_Col-0-3h_Rep2_ATH1</th>\n",
       "      <th>Quint_2-12_Bay-0-3h_Rep3_ATH1</th>\n",
       "      <th>Quint_2-20_Sha-1h_Rep2_ATH1</th>\n",
       "      <th>Quint_2-3_Bay-0-0h_Rep3_ATH1</th>\n",
       "      <th>...</th>\n",
       "      <th>Hybridization1</th>\n",
       "      <th>Gene ID</th>\n",
       "      <th>Gene Name</th>\n",
       "      <th>DesignElementAccession</th>\n",
       "      <th>NASCArrays:Tab2MAGE:E-NASC-75.20.Hybridization</th>\n",
       "      <th>NASCArrays:Tab2MAGE:E-NASC-75.17.Hybridization</th>\n",
       "      <th>NASCArrays:Tab2MAGE:E-NASC-75.32.Hybridization</th>\n",
       "      <th>NASCArrays:Tab2MAGE:E-NASC-75.38.Hybridization</th>\n",
       "      <th>NASCArrays:Tab2MAGE:E-NASC-75.13.Hybridization</th>\n",
       "      <th>NASCArrays:Tab2MAGE:E-NASC-75.35.Hybridization</th>\n",
       "    </tr>\n",
       "  </thead>\n",
       "  <tbody>\n",
       "    <tr>\n",
       "      <th>0</th>\n",
       "      <td>AT1G01010</td>\n",
       "      <td>NAC001</td>\n",
       "      <td>261585_at</td>\n",
       "      <td>5.608538</td>\n",
       "      <td>5.677893</td>\n",
       "      <td>5.480005</td>\n",
       "      <td>5.798785</td>\n",
       "      <td>6.955608</td>\n",
       "      <td>6.405201</td>\n",
       "      <td>6.923064</td>\n",
       "      <td>...</td>\n",
       "      <td>7.431597</td>\n",
       "      <td>AT1G01010</td>\n",
       "      <td>NAC001</td>\n",
       "      <td>261585_at</td>\n",
       "      <td>4.613952</td>\n",
       "      <td>5.015116</td>\n",
       "      <td>4.819662</td>\n",
       "      <td>4.708355</td>\n",
       "      <td>4.596021</td>\n",
       "      <td>4.911840</td>\n",
       "    </tr>\n",
       "    <tr>\n",
       "      <th>1</th>\n",
       "      <td>AT1G01030</td>\n",
       "      <td>NGA3</td>\n",
       "      <td>261568_at</td>\n",
       "      <td>4.529300</td>\n",
       "      <td>4.827077</td>\n",
       "      <td>4.457180</td>\n",
       "      <td>3.887700</td>\n",
       "      <td>3.919278</td>\n",
       "      <td>4.297806</td>\n",
       "      <td>4.697557</td>\n",
       "      <td>...</td>\n",
       "      <td>5.442021</td>\n",
       "      <td>AT1G01030</td>\n",
       "      <td>NGA3</td>\n",
       "      <td>261568_at</td>\n",
       "      <td>5.190178</td>\n",
       "      <td>4.941115</td>\n",
       "      <td>5.446728</td>\n",
       "      <td>5.504615</td>\n",
       "      <td>4.973644</td>\n",
       "      <td>5.331372</td>\n",
       "    </tr>\n",
       "    <tr>\n",
       "      <th>2</th>\n",
       "      <td>AT1G01040</td>\n",
       "      <td>DCL1</td>\n",
       "      <td>261584_at</td>\n",
       "      <td>6.498601</td>\n",
       "      <td>6.713645</td>\n",
       "      <td>6.469774</td>\n",
       "      <td>6.222814</td>\n",
       "      <td>6.389747</td>\n",
       "      <td>6.794899</td>\n",
       "      <td>6.474924</td>\n",
       "      <td>...</td>\n",
       "      <td>7.949174</td>\n",
       "      <td>AT1G01040</td>\n",
       "      <td>DCL1</td>\n",
       "      <td>261584_at</td>\n",
       "      <td>8.961531</td>\n",
       "      <td>9.036110</td>\n",
       "      <td>7.677763</td>\n",
       "      <td>7.946596</td>\n",
       "      <td>9.024197</td>\n",
       "      <td>7.693885</td>\n",
       "    </tr>\n",
       "    <tr>\n",
       "      <th>3</th>\n",
       "      <td>AT1G01050</td>\n",
       "      <td>PPA1</td>\n",
       "      <td>261579_at</td>\n",
       "      <td>9.996277</td>\n",
       "      <td>9.929045</td>\n",
       "      <td>9.981566</td>\n",
       "      <td>9.766975</td>\n",
       "      <td>9.994819</td>\n",
       "      <td>10.148893</td>\n",
       "      <td>10.003373</td>\n",
       "      <td>...</td>\n",
       "      <td>11.161513</td>\n",
       "      <td>AT1G01050</td>\n",
       "      <td>PPA1</td>\n",
       "      <td>261579_at</td>\n",
       "      <td>10.347619</td>\n",
       "      <td>10.345639</td>\n",
       "      <td>10.362536</td>\n",
       "      <td>10.397145</td>\n",
       "      <td>10.246724</td>\n",
       "      <td>10.227976</td>\n",
       "    </tr>\n",
       "    <tr>\n",
       "      <th>4</th>\n",
       "      <td>AT1G01060</td>\n",
       "      <td>LHY</td>\n",
       "      <td>261569_at</td>\n",
       "      <td>9.014491</td>\n",
       "      <td>8.850416</td>\n",
       "      <td>9.312076</td>\n",
       "      <td>7.716948</td>\n",
       "      <td>6.738384</td>\n",
       "      <td>8.309613</td>\n",
       "      <td>9.283075</td>\n",
       "      <td>...</td>\n",
       "      <td>7.009151</td>\n",
       "      <td>AT1G01060</td>\n",
       "      <td>LHY</td>\n",
       "      <td>261569_at</td>\n",
       "      <td>10.466160</td>\n",
       "      <td>10.085598</td>\n",
       "      <td>10.405960</td>\n",
       "      <td>9.905777</td>\n",
       "      <td>10.384944</td>\n",
       "      <td>9.975793</td>\n",
       "    </tr>\n",
       "  </tbody>\n",
       "</table>\n",
       "<p>5 rows × 333 columns</p>\n",
       "</div>"
      ],
      "text/plain": [
       "     Gene ID  Gene Name  DesignElementAccession  Quint_2-80_BI-1-1h_Rep2_ATH1  \\\n",
       "0  AT1G01010     NAC001               261585_at                      5.608538   \n",
       "1  AT1G01030       NGA3               261568_at                      4.529300   \n",
       "2  AT1G01040       DCL1               261584_at                      6.498601   \n",
       "3  AT1G01050       PPA1               261579_at                      9.996277   \n",
       "4  AT1G01060        LHY               261569_at                      9.014491   \n",
       "\n",
       "   Quint_2-41_Bur-0-30min_Rep2_ATH1  Quint_2-51_Fei-0-0h_Rep3_ATH1  \\\n",
       "0                          5.677893                       5.480005   \n",
       "1                          4.827077                       4.457180   \n",
       "2                          6.713645                       6.469774   \n",
       "3                          9.929045                       9.981566   \n",
       "4                          8.850416                       9.312076   \n",
       "\n",
       "   Quint_2-71_Col-0-3h_Rep2_ATH1  Quint_2-12_Bay-0-3h_Rep3_ATH1  \\\n",
       "0                       5.798785                       6.955608   \n",
       "1                       3.887700                       3.919278   \n",
       "2                       6.222814                       6.389747   \n",
       "3                       9.766975                       9.994819   \n",
       "4                       7.716948                       6.738384   \n",
       "\n",
       "   Quint_2-20_Sha-1h_Rep2_ATH1  Quint_2-3_Bay-0-0h_Rep3_ATH1  \\\n",
       "0                     6.405201                      6.923064   \n",
       "1                     4.297806                      4.697557   \n",
       "2                     6.794899                      6.474924   \n",
       "3                    10.148893                     10.003373   \n",
       "4                     8.309613                      9.283075   \n",
       "\n",
       "                        ...                        Hybridization1    Gene ID  \\\n",
       "0                       ...                              7.431597  AT1G01010   \n",
       "1                       ...                              5.442021  AT1G01030   \n",
       "2                       ...                              7.949174  AT1G01040   \n",
       "3                       ...                             11.161513  AT1G01050   \n",
       "4                       ...                              7.009151  AT1G01060   \n",
       "\n",
       "   Gene Name  DesignElementAccession  \\\n",
       "0     NAC001               261585_at   \n",
       "1       NGA3               261568_at   \n",
       "2       DCL1               261584_at   \n",
       "3       PPA1               261579_at   \n",
       "4        LHY               261569_at   \n",
       "\n",
       "   NASCArrays:Tab2MAGE:E-NASC-75.20.Hybridization  \\\n",
       "0                                        4.613952   \n",
       "1                                        5.190178   \n",
       "2                                        8.961531   \n",
       "3                                       10.347619   \n",
       "4                                       10.466160   \n",
       "\n",
       "   NASCArrays:Tab2MAGE:E-NASC-75.17.Hybridization  \\\n",
       "0                                        5.015116   \n",
       "1                                        4.941115   \n",
       "2                                        9.036110   \n",
       "3                                       10.345639   \n",
       "4                                       10.085598   \n",
       "\n",
       "   NASCArrays:Tab2MAGE:E-NASC-75.32.Hybridization  \\\n",
       "0                                        4.819662   \n",
       "1                                        5.446728   \n",
       "2                                        7.677763   \n",
       "3                                       10.362536   \n",
       "4                                       10.405960   \n",
       "\n",
       "   NASCArrays:Tab2MAGE:E-NASC-75.38.Hybridization  \\\n",
       "0                                        4.708355   \n",
       "1                                        5.504615   \n",
       "2                                        7.946596   \n",
       "3                                       10.397145   \n",
       "4                                        9.905777   \n",
       "\n",
       "   NASCArrays:Tab2MAGE:E-NASC-75.13.Hybridization  \\\n",
       "0                                        4.596021   \n",
       "1                                        4.973644   \n",
       "2                                        9.024197   \n",
       "3                                       10.246724   \n",
       "4                                       10.384944   \n",
       "\n",
       "   NASCArrays:Tab2MAGE:E-NASC-75.35.Hybridization  \n",
       "0                                        4.911840  \n",
       "1                                        5.331372  \n",
       "2                                        7.693885  \n",
       "3                                       10.227976  \n",
       "4                                        9.975793  \n",
       "\n",
       "[5 rows x 333 columns]"
      ]
     },
     "execution_count": 122,
     "metadata": {},
     "output_type": "execute_result"
    }
   ],
   "source": [
    "merged.head()"
   ]
  },
  {
   "cell_type": "code",
   "execution_count": 123,
   "metadata": {},
   "outputs": [
    {
     "ename": "NameError",
     "evalue": "name 'to_frame' is not defined",
     "output_type": "error",
     "traceback": [
      "\u001b[0;31m---------------------------------------------------------------------------\u001b[0m",
      "\u001b[0;31mNameError\u001b[0m                                 Traceback (most recent call last)",
      "\u001b[0;32m<ipython-input-123-7ebd7e9be4e2>\u001b[0m in \u001b[0;36m<module>\u001b[0;34m()\u001b[0m\n\u001b[0;32m----> 1\u001b[0;31m \u001b[0mto_frame\u001b[0m\u001b[0;34m(\u001b[0m\u001b[0;34m)\u001b[0m\u001b[0;34m\u001b[0m\u001b[0m\n\u001b[0m",
      "\u001b[0;31mNameError\u001b[0m: name 'to_frame' is not defined"
     ]
    }
   ],
   "source": [
    "to_frame()"
   ]
  },
  {
   "cell_type": "code",
   "execution_count": 124,
   "metadata": {},
   "outputs": [
    {
     "ename": "ImportError",
     "evalue": "No module named 'dataFrame'",
     "output_type": "error",
     "traceback": [
      "\u001b[0;31m---------------------------------------------------------------------------\u001b[0m",
      "\u001b[0;31mImportError\u001b[0m                               Traceback (most recent call last)",
      "\u001b[0;32m<ipython-input-124-30364261c729>\u001b[0m in \u001b[0;36m<module>\u001b[0;34m()\u001b[0m\n\u001b[1;32m      1\u001b[0m \u001b[0;32mimport\u001b[0m \u001b[0mpandas\u001b[0m \u001b[0;32mas\u001b[0m \u001b[0mpd\u001b[0m\u001b[0;34m\u001b[0m\u001b[0m\n\u001b[0;32m----> 2\u001b[0;31m \u001b[0;32mfrom\u001b[0m \u001b[0mdataFrame\u001b[0m \u001b[0;32mimport\u001b[0m \u001b[0mpandas\u001b[0m\u001b[0;34m\u001b[0m\u001b[0m\n\u001b[0m",
      "\u001b[0;31mImportError\u001b[0m: No module named 'dataFrame'"
     ]
    }
   ],
   "source": [
    "import pandas as pd\n",
    "from dataFrame import pandas"
   ]
  },
  {
   "cell_type": "code",
   "execution_count": null,
   "metadata": {},
   "outputs": [],
   "source": [
    "import pandas as pd\n",
    "import glob\n",
    "import os\n",
    "path = '/root/Downloads/jupyter/Atlas/' \n",
    "all_files = glob.glob(os.path.join(path,\"Tran*\"))\n",
    "masterpiece=pd.merge(((pd.read_csv(f,comment='#',delimiter=',') for f in all_files)))  "
   ]
  },
  {
   "cell_type": "code",
   "execution_count": null,
   "metadata": {},
   "outputs": [],
   "source": [
    "pd.merge(, how= 'left' ,on=['Gene ID','Gene Name','DesignElementAccession'])"
   ]
  },
  {
   "cell_type": "code",
   "execution_count": null,
   "metadata": {},
   "outputs": [],
   "source": [
    "import numpy as np"
   ]
  },
  {
   "cell_type": "code",
   "execution_count": null,
   "metadata": {},
   "outputs": [],
   "source": [
    "from functools import reduce "
   ]
  },
  {
   "cell_type": "code",
   "execution_count": null,
   "metadata": {},
   "outputs": [],
   "source": [
    "Transcription_profiling_by_array_of_Arabidopsis_Col_0,_Fei_0,_Bur_0,_C24,_Sha,_Bay_0_and_Bl_1_after_treatment_with_indole_3_acetic_acid.head()"
   ]
  },
  {
   "cell_type": "code",
   "execution_count": 165,
   "metadata": {},
   "outputs": [],
   "source": [
    "#for k, v  in all_dfs.items():\n",
    " #           exec(\"%s = pd.read_csv(base_url + '%s',delimiter=',' ,comment='#')\"  %(k, v), globals()) "
   ]
  },
  {
   "cell_type": "code",
   "execution_count": 7,
   "metadata": {},
   "outputs": [],
   "source": [
    "%matplotlib inline\n",
    "import pandas as pd\n",
    "import matplotlib.pyplot as plt\n",
    "import numpy as np\n",
    "from functools import reduce"
   ]
  },
  {
   "cell_type": "code",
   "execution_count": 37,
   "metadata": {},
   "outputs": [],
   "source": [
    "file_tpm_list= glob.glob('./Atlas/*.csv')\n",
    "df_list = [pd.read_csv(x,delimiter=',' ,comment='#') for x in file_tpm_list]"
   ]
  },
  {
   "cell_type": "code",
   "execution_count": 38,
   "metadata": {},
   "outputs": [
    {
     "data": {
      "text/plain": [
       "'./Atlas/Transcription profiling by array of Arabidopsis mutant for arr10 and arr12 after treatment with t-zeatin.csv'"
      ]
     },
     "execution_count": 38,
     "metadata": {},
     "output_type": "execute_result"
    }
   ],
   "source": [
    "file_tpm_list[6]"
   ]
  },
  {
   "cell_type": "code",
   "execution_count": 39,
   "metadata": {},
   "outputs": [
    {
     "data": {
      "text/html": [
       "<div>\n",
       "<style scoped>\n",
       "    .dataframe tbody tr th:only-of-type {\n",
       "        vertical-align: middle;\n",
       "    }\n",
       "\n",
       "    .dataframe tbody tr th {\n",
       "        vertical-align: top;\n",
       "    }\n",
       "\n",
       "    .dataframe thead th {\n",
       "        text-align: right;\n",
       "    }\n",
       "</style>\n",
       "<table border=\"1\" class=\"dataframe\">\n",
       "  <thead>\n",
       "    <tr style=\"text-align: right;\">\n",
       "      <th></th>\n",
       "      <th>Gene ID</th>\n",
       "      <th>Gene Name</th>\n",
       "      <th>DesignElementAccession</th>\n",
       "      <th>Sakakibara_1-2_TZ-treatment-wild_Rep2_ATH1</th>\n",
       "      <th>Sakakibara_1-9_DMSO-treatment-wild_Rep3_ATH1</th>\n",
       "      <th>Sakakibara_1-7_DMSO-treatment-wild_Rep1_ATH1</th>\n",
       "      <th>Sakakibara_1-1_TZ-treatment-wild_Rep1_ATH1</th>\n",
       "      <th>Sakakibara_1-8_DMSO-treatment-wild_Rep2_ATH1</th>\n",
       "      <th>Sakakibara_1-3_TZ-treatment-wild_Rep3_ATH1</th>\n",
       "    </tr>\n",
       "  </thead>\n",
       "  <tbody>\n",
       "    <tr>\n",
       "      <th>0</th>\n",
       "      <td>AT1G01010</td>\n",
       "      <td>NAC001</td>\n",
       "      <td>261585_at</td>\n",
       "      <td>4.911840</td>\n",
       "      <td>4.613952</td>\n",
       "      <td>4.596021</td>\n",
       "      <td>4.819662</td>\n",
       "      <td>5.015116</td>\n",
       "      <td>4.708355</td>\n",
       "    </tr>\n",
       "    <tr>\n",
       "      <th>1</th>\n",
       "      <td>AT1G01030</td>\n",
       "      <td>NGA3</td>\n",
       "      <td>261568_at</td>\n",
       "      <td>5.331372</td>\n",
       "      <td>5.190178</td>\n",
       "      <td>4.973644</td>\n",
       "      <td>5.446728</td>\n",
       "      <td>4.941115</td>\n",
       "      <td>5.504615</td>\n",
       "    </tr>\n",
       "    <tr>\n",
       "      <th>2</th>\n",
       "      <td>AT1G01040</td>\n",
       "      <td>DCL1</td>\n",
       "      <td>261584_at</td>\n",
       "      <td>7.693885</td>\n",
       "      <td>8.961531</td>\n",
       "      <td>9.024197</td>\n",
       "      <td>7.677763</td>\n",
       "      <td>9.036110</td>\n",
       "      <td>7.946596</td>\n",
       "    </tr>\n",
       "    <tr>\n",
       "      <th>3</th>\n",
       "      <td>AT1G01050</td>\n",
       "      <td>PPA1</td>\n",
       "      <td>261579_at</td>\n",
       "      <td>10.227976</td>\n",
       "      <td>10.347619</td>\n",
       "      <td>10.246724</td>\n",
       "      <td>10.362536</td>\n",
       "      <td>10.345639</td>\n",
       "      <td>10.397145</td>\n",
       "    </tr>\n",
       "    <tr>\n",
       "      <th>4</th>\n",
       "      <td>AT1G01060</td>\n",
       "      <td>LHY</td>\n",
       "      <td>261569_at</td>\n",
       "      <td>9.975793</td>\n",
       "      <td>10.466160</td>\n",
       "      <td>10.384944</td>\n",
       "      <td>10.405960</td>\n",
       "      <td>10.085598</td>\n",
       "      <td>9.905777</td>\n",
       "    </tr>\n",
       "  </tbody>\n",
       "</table>\n",
       "</div>"
      ],
      "text/plain": [
       "     Gene ID Gene Name DesignElementAccession  \\\n",
       "0  AT1G01010    NAC001              261585_at   \n",
       "1  AT1G01030      NGA3              261568_at   \n",
       "2  AT1G01040      DCL1              261584_at   \n",
       "3  AT1G01050      PPA1              261579_at   \n",
       "4  AT1G01060       LHY              261569_at   \n",
       "\n",
       "   Sakakibara_1-2_TZ-treatment-wild_Rep2_ATH1  \\\n",
       "0                                    4.911840   \n",
       "1                                    5.331372   \n",
       "2                                    7.693885   \n",
       "3                                   10.227976   \n",
       "4                                    9.975793   \n",
       "\n",
       "   Sakakibara_1-9_DMSO-treatment-wild_Rep3_ATH1  \\\n",
       "0                                      4.613952   \n",
       "1                                      5.190178   \n",
       "2                                      8.961531   \n",
       "3                                     10.347619   \n",
       "4                                     10.466160   \n",
       "\n",
       "   Sakakibara_1-7_DMSO-treatment-wild_Rep1_ATH1  \\\n",
       "0                                      4.596021   \n",
       "1                                      4.973644   \n",
       "2                                      9.024197   \n",
       "3                                     10.246724   \n",
       "4                                     10.384944   \n",
       "\n",
       "   Sakakibara_1-1_TZ-treatment-wild_Rep1_ATH1  \\\n",
       "0                                    4.819662   \n",
       "1                                    5.446728   \n",
       "2                                    7.677763   \n",
       "3                                   10.362536   \n",
       "4                                   10.405960   \n",
       "\n",
       "   Sakakibara_1-8_DMSO-treatment-wild_Rep2_ATH1  \\\n",
       "0                                      5.015116   \n",
       "1                                      4.941115   \n",
       "2                                      9.036110   \n",
       "3                                     10.345639   \n",
       "4                                     10.085598   \n",
       "\n",
       "   Sakakibara_1-3_TZ-treatment-wild_Rep3_ATH1  \n",
       "0                                    4.708355  \n",
       "1                                    5.504615  \n",
       "2                                    7.946596  \n",
       "3                                   10.397145  \n",
       "4                                    9.905777  "
      ]
     },
     "execution_count": 39,
     "metadata": {},
     "output_type": "execute_result"
    }
   ],
   "source": [
    "df_list[6].head()"
   ]
  },
  {
   "cell_type": "code",
   "execution_count": 40,
   "metadata": {},
   "outputs": [
    {
     "ename": "MemoryError",
     "evalue": "",
     "output_type": "error",
     "traceback": [
      "\u001b[0;31m---------------------------------------------------------------------------\u001b[0m",
      "\u001b[0;31mMemoryError\u001b[0m                               Traceback (most recent call last)",
      "\u001b[0;32m<ipython-input-40-a99b6820c3ca>\u001b[0m in \u001b[0;36m<module>\u001b[0;34m()\u001b[0m\n\u001b[0;32m----> 1\u001b[0;31m \u001b[0mdf_mat\u001b[0m \u001b[0;34m=\u001b[0m \u001b[0mreduce\u001b[0m\u001b[0;34m(\u001b[0m\u001b[0;32mlambda\u001b[0m \u001b[0ma\u001b[0m\u001b[0;34m,\u001b[0m\u001b[0mb\u001b[0m \u001b[0;34m:\u001b[0m \u001b[0mpd\u001b[0m\u001b[0;34m.\u001b[0m\u001b[0mmerge\u001b[0m\u001b[0;34m(\u001b[0m\u001b[0ma\u001b[0m\u001b[0;34m,\u001b[0m\u001b[0mb\u001b[0m\u001b[0;34m,\u001b[0m\u001b[0mon\u001b[0m\u001b[0;34m=\u001b[0m\u001b[0;34m\"Gene ID\"\u001b[0m\u001b[0;34m,\u001b[0m\u001b[0mhow\u001b[0m\u001b[0;34m=\u001b[0m\u001b[0;34m'outer'\u001b[0m\u001b[0;34m)\u001b[0m\u001b[0;34m,\u001b[0m\u001b[0mdf_list\u001b[0m\u001b[0;34m)\u001b[0m\u001b[0;34m\u001b[0m\u001b[0m\n\u001b[0m",
      "\u001b[0;32m<ipython-input-40-a99b6820c3ca>\u001b[0m in \u001b[0;36m<lambda>\u001b[0;34m(a, b)\u001b[0m\n\u001b[0;32m----> 1\u001b[0;31m \u001b[0mdf_mat\u001b[0m \u001b[0;34m=\u001b[0m \u001b[0mreduce\u001b[0m\u001b[0;34m(\u001b[0m\u001b[0;32mlambda\u001b[0m \u001b[0ma\u001b[0m\u001b[0;34m,\u001b[0m\u001b[0mb\u001b[0m \u001b[0;34m:\u001b[0m \u001b[0mpd\u001b[0m\u001b[0;34m.\u001b[0m\u001b[0mmerge\u001b[0m\u001b[0;34m(\u001b[0m\u001b[0ma\u001b[0m\u001b[0;34m,\u001b[0m\u001b[0mb\u001b[0m\u001b[0;34m,\u001b[0m\u001b[0mon\u001b[0m\u001b[0;34m=\u001b[0m\u001b[0;34m\"Gene ID\"\u001b[0m\u001b[0;34m,\u001b[0m\u001b[0mhow\u001b[0m\u001b[0;34m=\u001b[0m\u001b[0;34m'outer'\u001b[0m\u001b[0;34m)\u001b[0m\u001b[0;34m,\u001b[0m\u001b[0mdf_list\u001b[0m\u001b[0;34m)\u001b[0m\u001b[0;34m\u001b[0m\u001b[0m\n\u001b[0m",
      "\u001b[0;32m/usr/local/lib/python3.5/dist-packages/pandas/core/reshape/merge.py\u001b[0m in \u001b[0;36mmerge\u001b[0;34m(left, right, how, on, left_on, right_on, left_index, right_index, sort, suffixes, copy, indicator, validate)\u001b[0m\n\u001b[1;32m     56\u001b[0m                          \u001b[0mcopy\u001b[0m\u001b[0;34m=\u001b[0m\u001b[0mcopy\u001b[0m\u001b[0;34m,\u001b[0m \u001b[0mindicator\u001b[0m\u001b[0;34m=\u001b[0m\u001b[0mindicator\u001b[0m\u001b[0;34m,\u001b[0m\u001b[0;34m\u001b[0m\u001b[0m\n\u001b[1;32m     57\u001b[0m                          validate=validate)\n\u001b[0;32m---> 58\u001b[0;31m     \u001b[0;32mreturn\u001b[0m \u001b[0mop\u001b[0m\u001b[0;34m.\u001b[0m\u001b[0mget_result\u001b[0m\u001b[0;34m(\u001b[0m\u001b[0;34m)\u001b[0m\u001b[0;34m\u001b[0m\u001b[0m\n\u001b[0m\u001b[1;32m     59\u001b[0m \u001b[0;34m\u001b[0m\u001b[0m\n\u001b[1;32m     60\u001b[0m \u001b[0;34m\u001b[0m\u001b[0m\n",
      "\u001b[0;32m/usr/local/lib/python3.5/dist-packages/pandas/core/reshape/merge.py\u001b[0m in \u001b[0;36mget_result\u001b[0;34m(self)\u001b[0m\n\u001b[1;32m    594\u001b[0m             \u001b[0;34m[\u001b[0m\u001b[0;34m(\u001b[0m\u001b[0mldata\u001b[0m\u001b[0;34m,\u001b[0m \u001b[0mlindexers\u001b[0m\u001b[0;34m)\u001b[0m\u001b[0;34m,\u001b[0m \u001b[0;34m(\u001b[0m\u001b[0mrdata\u001b[0m\u001b[0;34m,\u001b[0m \u001b[0mrindexers\u001b[0m\u001b[0;34m)\u001b[0m\u001b[0;34m]\u001b[0m\u001b[0;34m,\u001b[0m\u001b[0;34m\u001b[0m\u001b[0m\n\u001b[1;32m    595\u001b[0m             \u001b[0maxes\u001b[0m\u001b[0;34m=\u001b[0m\u001b[0;34m[\u001b[0m\u001b[0mllabels\u001b[0m\u001b[0;34m.\u001b[0m\u001b[0mappend\u001b[0m\u001b[0;34m(\u001b[0m\u001b[0mrlabels\u001b[0m\u001b[0;34m)\u001b[0m\u001b[0;34m,\u001b[0m \u001b[0mjoin_index\u001b[0m\u001b[0;34m]\u001b[0m\u001b[0;34m,\u001b[0m\u001b[0;34m\u001b[0m\u001b[0m\n\u001b[0;32m--> 596\u001b[0;31m             concat_axis=0, copy=self.copy)\n\u001b[0m\u001b[1;32m    597\u001b[0m \u001b[0;34m\u001b[0m\u001b[0m\n\u001b[1;32m    598\u001b[0m         \u001b[0mtyp\u001b[0m \u001b[0;34m=\u001b[0m \u001b[0mself\u001b[0m\u001b[0;34m.\u001b[0m\u001b[0mleft\u001b[0m\u001b[0;34m.\u001b[0m\u001b[0m_constructor\u001b[0m\u001b[0;34m\u001b[0m\u001b[0m\n",
      "\u001b[0;32m/usr/local/lib/python3.5/dist-packages/pandas/core/internals.py\u001b[0m in \u001b[0;36mconcatenate_block_managers\u001b[0;34m(mgrs_indexers, axes, concat_axis, copy)\u001b[0m\n\u001b[1;32m   5201\u001b[0m         \u001b[0;32melse\u001b[0m\u001b[0;34m:\u001b[0m\u001b[0;34m\u001b[0m\u001b[0m\n\u001b[1;32m   5202\u001b[0m             b = make_block(\n\u001b[0;32m-> 5203\u001b[0;31m                 \u001b[0mconcatenate_join_units\u001b[0m\u001b[0;34m(\u001b[0m\u001b[0mjoin_units\u001b[0m\u001b[0;34m,\u001b[0m \u001b[0mconcat_axis\u001b[0m\u001b[0;34m,\u001b[0m \u001b[0mcopy\u001b[0m\u001b[0;34m=\u001b[0m\u001b[0mcopy\u001b[0m\u001b[0;34m)\u001b[0m\u001b[0;34m,\u001b[0m\u001b[0;34m\u001b[0m\u001b[0m\n\u001b[0m\u001b[1;32m   5204\u001b[0m                 placement=placement)\n\u001b[1;32m   5205\u001b[0m         \u001b[0mblocks\u001b[0m\u001b[0;34m.\u001b[0m\u001b[0mappend\u001b[0m\u001b[0;34m(\u001b[0m\u001b[0mb\u001b[0m\u001b[0;34m)\u001b[0m\u001b[0;34m\u001b[0m\u001b[0m\n",
      "\u001b[0;32m/usr/local/lib/python3.5/dist-packages/pandas/core/internals.py\u001b[0m in \u001b[0;36mconcatenate_join_units\u001b[0;34m(join_units, concat_axis, copy)\u001b[0m\n\u001b[1;32m   5330\u001b[0m     to_concat = [ju.get_reindexed_values(empty_dtype=empty_dtype,\n\u001b[1;32m   5331\u001b[0m                                          upcasted_na=upcasted_na)\n\u001b[0;32m-> 5332\u001b[0;31m                  for ju in join_units]\n\u001b[0m\u001b[1;32m   5333\u001b[0m \u001b[0;34m\u001b[0m\u001b[0m\n\u001b[1;32m   5334\u001b[0m     \u001b[0;32mif\u001b[0m \u001b[0mlen\u001b[0m\u001b[0;34m(\u001b[0m\u001b[0mto_concat\u001b[0m\u001b[0;34m)\u001b[0m \u001b[0;34m==\u001b[0m \u001b[0;36m1\u001b[0m\u001b[0;34m:\u001b[0m\u001b[0;34m\u001b[0m\u001b[0m\n",
      "\u001b[0;32m/usr/local/lib/python3.5/dist-packages/pandas/core/internals.py\u001b[0m in \u001b[0;36m<listcomp>\u001b[0;34m(.0)\u001b[0m\n\u001b[1;32m   5330\u001b[0m     to_concat = [ju.get_reindexed_values(empty_dtype=empty_dtype,\n\u001b[1;32m   5331\u001b[0m                                          upcasted_na=upcasted_na)\n\u001b[0;32m-> 5332\u001b[0;31m                  for ju in join_units]\n\u001b[0m\u001b[1;32m   5333\u001b[0m \u001b[0;34m\u001b[0m\u001b[0m\n\u001b[1;32m   5334\u001b[0m     \u001b[0;32mif\u001b[0m \u001b[0mlen\u001b[0m\u001b[0;34m(\u001b[0m\u001b[0mto_concat\u001b[0m\u001b[0;34m)\u001b[0m \u001b[0;34m==\u001b[0m \u001b[0;36m1\u001b[0m\u001b[0;34m:\u001b[0m\u001b[0;34m\u001b[0m\u001b[0m\n",
      "\u001b[0;32m/usr/local/lib/python3.5/dist-packages/pandas/core/internals.py\u001b[0m in \u001b[0;36mget_reindexed_values\u001b[0;34m(self, empty_dtype, upcasted_na)\u001b[0m\n\u001b[1;32m   5630\u001b[0m             \u001b[0;32mfor\u001b[0m \u001b[0max\u001b[0m\u001b[0;34m,\u001b[0m \u001b[0mindexer\u001b[0m \u001b[0;32min\u001b[0m \u001b[0mself\u001b[0m\u001b[0;34m.\u001b[0m\u001b[0mindexers\u001b[0m\u001b[0;34m.\u001b[0m\u001b[0mitems\u001b[0m\u001b[0;34m(\u001b[0m\u001b[0;34m)\u001b[0m\u001b[0;34m:\u001b[0m\u001b[0;34m\u001b[0m\u001b[0m\n\u001b[1;32m   5631\u001b[0m                 values = algos.take_nd(values, indexer, axis=ax,\n\u001b[0;32m-> 5632\u001b[0;31m                                        fill_value=fill_value)\n\u001b[0m\u001b[1;32m   5633\u001b[0m \u001b[0;34m\u001b[0m\u001b[0m\n\u001b[1;32m   5634\u001b[0m         \u001b[0;32mreturn\u001b[0m \u001b[0mvalues\u001b[0m\u001b[0;34m\u001b[0m\u001b[0m\n",
      "\u001b[0;32m/usr/local/lib/python3.5/dist-packages/pandas/core/algorithms.py\u001b[0m in \u001b[0;36mtake_nd\u001b[0;34m(arr, indexer, axis, out, fill_value, mask_info, allow_fill)\u001b[0m\n\u001b[1;32m   1377\u001b[0m             \u001b[0mout\u001b[0m \u001b[0;34m=\u001b[0m \u001b[0mnp\u001b[0m\u001b[0;34m.\u001b[0m\u001b[0mempty\u001b[0m\u001b[0;34m(\u001b[0m\u001b[0mout_shape\u001b[0m\u001b[0;34m,\u001b[0m \u001b[0mdtype\u001b[0m\u001b[0;34m=\u001b[0m\u001b[0mdtype\u001b[0m\u001b[0;34m,\u001b[0m \u001b[0morder\u001b[0m\u001b[0;34m=\u001b[0m\u001b[0;34m'F'\u001b[0m\u001b[0;34m)\u001b[0m\u001b[0;34m\u001b[0m\u001b[0m\n\u001b[1;32m   1378\u001b[0m         \u001b[0;32melse\u001b[0m\u001b[0;34m:\u001b[0m\u001b[0;34m\u001b[0m\u001b[0m\n\u001b[0;32m-> 1379\u001b[0;31m             \u001b[0mout\u001b[0m \u001b[0;34m=\u001b[0m \u001b[0mnp\u001b[0m\u001b[0;34m.\u001b[0m\u001b[0mempty\u001b[0m\u001b[0;34m(\u001b[0m\u001b[0mout_shape\u001b[0m\u001b[0;34m,\u001b[0m \u001b[0mdtype\u001b[0m\u001b[0;34m=\u001b[0m\u001b[0mdtype\u001b[0m\u001b[0;34m)\u001b[0m\u001b[0;34m\u001b[0m\u001b[0m\n\u001b[0m\u001b[1;32m   1380\u001b[0m \u001b[0;34m\u001b[0m\u001b[0m\n\u001b[1;32m   1381\u001b[0m     func = _get_take_nd_function(arr.ndim, arr.dtype, out.dtype, axis=axis,\n",
      "\u001b[0;31mMemoryError\u001b[0m: "
     ]
    }
   ],
   "source": [
    "df_mat = reduce(lambda a,b : pd.merge(a,b,on=\"Gene ID\",how='outer'),df_list)"
   ]
  },
  {
   "cell_type": "code",
   "execution_count": null,
   "metadata": {},
   "outputs": [],
   "source": []
  },
  {
   "cell_type": "code",
   "execution_count": null,
   "metadata": {},
   "outputs": [],
   "source": []
  },
  {
   "cell_type": "code",
   "execution_count": null,
   "metadata": {},
   "outputs": [],
   "source": []
  },
  {
   "cell_type": "code",
   "execution_count": 235,
   "metadata": {},
   "outputs": [],
   "source": [
    "import numpy as np\n",
    "import pandas as pd \n",
    "import os \n",
    "base_url = os.path.expanduser('/root/Downloads/jupyter/Atlas/') \n",
    "# create a dict of strings with pd name as key and filename as value \n",
    "files_dict = {} \n",
    "files = os.listdir(base_url) \n",
    "dong={}\n",
    "for f in files: \n",
    "    if f.endswith('.csv'): \n",
    "        key = f[:-len('.csv')]\n",
    "        key = key.replace(\",\", \"_\")\n",
    "        key = key.replace(\"(\", \"_\")\n",
    "        key = key.replace(\")\", \"_\")\n",
    "        key = key.replace(\" \", \"_\") \n",
    "        key = key.replace(\"-\", \"_\") \n",
    "        files_dict[key] = f \n",
    "        all_dfs = files_dict\n",
    "        for k, v  in all_dfs.items():\n",
    "            exec(\"%s = pd.read_csv(base_url + '%s',delimiter=',' ,comment='#')\"  %(k, v), globals()) \n",
    "           "
   ]
  },
  {
   "cell_type": "code",
   "execution_count": 234,
   "metadata": {},
   "outputs": [
    {
     "data": {
      "text/plain": [
       "0        AT1G01010\n",
       "1        AT1G01030\n",
       "2        AT1G01040\n",
       "3        AT1G01050\n",
       "4        AT1G01060\n",
       "5        AT1G01070\n",
       "6        AT1G01080\n",
       "7        AT1G01090\n",
       "8        AT1G01100\n",
       "9        AT1G01110\n",
       "10       AT1G01120\n",
       "11       AT1G01130\n",
       "12       AT1G01140\n",
       "13       AT1G01150\n",
       "14       AT1G01160\n",
       "15       AT1G01170\n",
       "16       AT1G01190\n",
       "17       AT1G01200\n",
       "18       AT1G01220\n",
       "19       AT1G01225\n",
       "20       AT1G01230\n",
       "21       AT1G01240\n",
       "22       AT1G01250\n",
       "23       AT1G01260\n",
       "24       AT1G01280\n",
       "25       AT1G01290\n",
       "26       AT1G01300\n",
       "27       AT1G01310\n",
       "28       AT1G01320\n",
       "29       AT1G01320\n",
       "           ...    \n",
       "20569    ATMG00750\n",
       "20570    ATMG00760\n",
       "20571    ATMG00770\n",
       "20572    ATMG00810\n",
       "20573    ATMG00820\n",
       "20574    ATMG00830\n",
       "20575    ATMG00840\n",
       "20576    ATMG00850\n",
       "20577    ATMG00860\n",
       "20578    ATMG00870\n",
       "20579    ATMG00880\n",
       "20580    ATMG00940\n",
       "20581    ATMG01000\n",
       "20582    ATMG01060\n",
       "20583    ATMG01100\n",
       "20584    ATMG01130\n",
       "20585    ATMG01180\n",
       "20586    ATMG01200\n",
       "20587    ATMG01210\n",
       "20588    ATMG01230\n",
       "20589    ATMG01240\n",
       "20590    ATMG01250\n",
       "20591    ATMG01260\n",
       "20592    ATMG01290\n",
       "20593    ATMG01330\n",
       "20594    ATMG01350\n",
       "20595    ATMG01360\n",
       "20596    ATMG01370\n",
       "20597    ATMG01400\n",
       "20598    ATMG01410\n",
       "Name: Gene ID, Length: 20599, dtype: object"
      ]
     },
     "execution_count": 234,
     "metadata": {},
     "output_type": "execute_result"
    }
   ],
   "source": [
    "Transcription_profiling_by_array_of_Arabidopsis_Col_0__Fei_0__Bur_0__C24__Sha__Bay_0_and_Bl_1_after_treatment_with_indole_3_acetic_acid['Gene ID']"
   ]
  },
  {
   "cell_type": "code",
   "execution_count": 228,
   "metadata": {},
   "outputs": [
    {
     "ename": "KeyError",
     "evalue": "\"['Gene_ID'] not in index\"",
     "output_type": "error",
     "traceback": [
      "\u001b[0;31m---------------------------------------------------------------------------\u001b[0m",
      "\u001b[0;31mKeyError\u001b[0m                                  Traceback (most recent call last)",
      "\u001b[0;32m<ipython-input-228-2534e146e207>\u001b[0m in \u001b[0;36m<module>\u001b[0;34m()\u001b[0m\n\u001b[1;32m      4\u001b[0m \u001b[0;31m#ile_tpm_list\u001b[0m\u001b[0;34m\u001b[0m\u001b[0;34m\u001b[0m\u001b[0m\n\u001b[1;32m      5\u001b[0m \u001b[0mcolumns\u001b[0m\u001b[0;34m=\u001b[0m\u001b[0;34m[\u001b[0m\u001b[0;34m'Gene_ID'\u001b[0m\u001b[0;34m]\u001b[0m\u001b[0;34m\u001b[0m\u001b[0m\n\u001b[0;32m----> 6\u001b[0;31m \u001b[0mdf_list\u001b[0m \u001b[0;34m=\u001b[0m \u001b[0;34m[\u001b[0m\u001b[0mpd\u001b[0m\u001b[0;34m.\u001b[0m\u001b[0mread_csv\u001b[0m\u001b[0;34m(\u001b[0m\u001b[0mx\u001b[0m\u001b[0;34m,\u001b[0m\u001b[0mdelimiter\u001b[0m\u001b[0;34m=\u001b[0m\u001b[0;34m','\u001b[0m \u001b[0;34m,\u001b[0m\u001b[0mcomment\u001b[0m\u001b[0;34m=\u001b[0m\u001b[0;34m'#'\u001b[0m\u001b[0;34m)\u001b[0m\u001b[0;34m[\u001b[0m\u001b[0;34m[\u001b[0m\u001b[0;34m'Gene_ID'\u001b[0m\u001b[0;34m]\u001b[0m\u001b[0;34m]\u001b[0m \u001b[0;32mfor\u001b[0m \u001b[0mx\u001b[0m \u001b[0;32min\u001b[0m \u001b[0mfile_tpm_list\u001b[0m\u001b[0;34m]\u001b[0m\u001b[0;34m\u001b[0m\u001b[0m\n\u001b[0m\u001b[1;32m      7\u001b[0m \u001b[0;34m\u001b[0m\u001b[0m\n\u001b[1;32m      8\u001b[0m \u001b[0;31m#df_mat = reduce(lambda a,b : pd.merge(a,b,on=\"Gene ID\",how='left'),df_list)\u001b[0m\u001b[0;34m\u001b[0m\u001b[0;34m\u001b[0m\u001b[0m\n",
      "\u001b[0;32m<ipython-input-228-2534e146e207>\u001b[0m in \u001b[0;36m<listcomp>\u001b[0;34m(.0)\u001b[0m\n\u001b[1;32m      4\u001b[0m \u001b[0;31m#ile_tpm_list\u001b[0m\u001b[0;34m\u001b[0m\u001b[0;34m\u001b[0m\u001b[0m\n\u001b[1;32m      5\u001b[0m \u001b[0mcolumns\u001b[0m\u001b[0;34m=\u001b[0m\u001b[0;34m[\u001b[0m\u001b[0;34m'Gene_ID'\u001b[0m\u001b[0;34m]\u001b[0m\u001b[0;34m\u001b[0m\u001b[0m\n\u001b[0;32m----> 6\u001b[0;31m \u001b[0mdf_list\u001b[0m \u001b[0;34m=\u001b[0m \u001b[0;34m[\u001b[0m\u001b[0mpd\u001b[0m\u001b[0;34m.\u001b[0m\u001b[0mread_csv\u001b[0m\u001b[0;34m(\u001b[0m\u001b[0mx\u001b[0m\u001b[0;34m,\u001b[0m\u001b[0mdelimiter\u001b[0m\u001b[0;34m=\u001b[0m\u001b[0;34m','\u001b[0m \u001b[0;34m,\u001b[0m\u001b[0mcomment\u001b[0m\u001b[0;34m=\u001b[0m\u001b[0;34m'#'\u001b[0m\u001b[0;34m)\u001b[0m\u001b[0;34m[\u001b[0m\u001b[0;34m[\u001b[0m\u001b[0;34m'Gene_ID'\u001b[0m\u001b[0;34m]\u001b[0m\u001b[0;34m]\u001b[0m \u001b[0;32mfor\u001b[0m \u001b[0mx\u001b[0m \u001b[0;32min\u001b[0m \u001b[0mfile_tpm_list\u001b[0m\u001b[0;34m]\u001b[0m\u001b[0;34m\u001b[0m\u001b[0m\n\u001b[0m\u001b[1;32m      7\u001b[0m \u001b[0;34m\u001b[0m\u001b[0m\n\u001b[1;32m      8\u001b[0m \u001b[0;31m#df_mat = reduce(lambda a,b : pd.merge(a,b,on=\"Gene ID\",how='left'),df_list)\u001b[0m\u001b[0;34m\u001b[0m\u001b[0;34m\u001b[0m\u001b[0m\n",
      "\u001b[0;32m/usr/local/lib/python3.5/dist-packages/pandas/core/frame.py\u001b[0m in \u001b[0;36m__getitem__\u001b[0;34m(self, key)\u001b[0m\n\u001b[1;32m   2131\u001b[0m         \u001b[0;32mif\u001b[0m \u001b[0misinstance\u001b[0m\u001b[0;34m(\u001b[0m\u001b[0mkey\u001b[0m\u001b[0;34m,\u001b[0m \u001b[0;34m(\u001b[0m\u001b[0mSeries\u001b[0m\u001b[0;34m,\u001b[0m \u001b[0mnp\u001b[0m\u001b[0;34m.\u001b[0m\u001b[0mndarray\u001b[0m\u001b[0;34m,\u001b[0m \u001b[0mIndex\u001b[0m\u001b[0;34m,\u001b[0m \u001b[0mlist\u001b[0m\u001b[0;34m)\u001b[0m\u001b[0;34m)\u001b[0m\u001b[0;34m:\u001b[0m\u001b[0;34m\u001b[0m\u001b[0m\n\u001b[1;32m   2132\u001b[0m             \u001b[0;31m# either boolean or fancy integer index\u001b[0m\u001b[0;34m\u001b[0m\u001b[0;34m\u001b[0m\u001b[0m\n\u001b[0;32m-> 2133\u001b[0;31m             \u001b[0;32mreturn\u001b[0m \u001b[0mself\u001b[0m\u001b[0;34m.\u001b[0m\u001b[0m_getitem_array\u001b[0m\u001b[0;34m(\u001b[0m\u001b[0mkey\u001b[0m\u001b[0;34m)\u001b[0m\u001b[0;34m\u001b[0m\u001b[0m\n\u001b[0m\u001b[1;32m   2134\u001b[0m         \u001b[0;32melif\u001b[0m \u001b[0misinstance\u001b[0m\u001b[0;34m(\u001b[0m\u001b[0mkey\u001b[0m\u001b[0;34m,\u001b[0m \u001b[0mDataFrame\u001b[0m\u001b[0;34m)\u001b[0m\u001b[0;34m:\u001b[0m\u001b[0;34m\u001b[0m\u001b[0m\n\u001b[1;32m   2135\u001b[0m             \u001b[0;32mreturn\u001b[0m \u001b[0mself\u001b[0m\u001b[0;34m.\u001b[0m\u001b[0m_getitem_frame\u001b[0m\u001b[0;34m(\u001b[0m\u001b[0mkey\u001b[0m\u001b[0;34m)\u001b[0m\u001b[0;34m\u001b[0m\u001b[0m\n",
      "\u001b[0;32m/usr/local/lib/python3.5/dist-packages/pandas/core/frame.py\u001b[0m in \u001b[0;36m_getitem_array\u001b[0;34m(self, key)\u001b[0m\n\u001b[1;32m   2175\u001b[0m             \u001b[0;32mreturn\u001b[0m \u001b[0mself\u001b[0m\u001b[0;34m.\u001b[0m\u001b[0m_take\u001b[0m\u001b[0;34m(\u001b[0m\u001b[0mindexer\u001b[0m\u001b[0;34m,\u001b[0m \u001b[0maxis\u001b[0m\u001b[0;34m=\u001b[0m\u001b[0;36m0\u001b[0m\u001b[0;34m,\u001b[0m \u001b[0mconvert\u001b[0m\u001b[0;34m=\u001b[0m\u001b[0;32mFalse\u001b[0m\u001b[0;34m)\u001b[0m\u001b[0;34m\u001b[0m\u001b[0m\n\u001b[1;32m   2176\u001b[0m         \u001b[0;32melse\u001b[0m\u001b[0;34m:\u001b[0m\u001b[0;34m\u001b[0m\u001b[0m\n\u001b[0;32m-> 2177\u001b[0;31m             \u001b[0mindexer\u001b[0m \u001b[0;34m=\u001b[0m \u001b[0mself\u001b[0m\u001b[0;34m.\u001b[0m\u001b[0mloc\u001b[0m\u001b[0;34m.\u001b[0m\u001b[0m_convert_to_indexer\u001b[0m\u001b[0;34m(\u001b[0m\u001b[0mkey\u001b[0m\u001b[0;34m,\u001b[0m \u001b[0maxis\u001b[0m\u001b[0;34m=\u001b[0m\u001b[0;36m1\u001b[0m\u001b[0;34m)\u001b[0m\u001b[0;34m\u001b[0m\u001b[0m\n\u001b[0m\u001b[1;32m   2178\u001b[0m             \u001b[0;32mreturn\u001b[0m \u001b[0mself\u001b[0m\u001b[0;34m.\u001b[0m\u001b[0m_take\u001b[0m\u001b[0;34m(\u001b[0m\u001b[0mindexer\u001b[0m\u001b[0;34m,\u001b[0m \u001b[0maxis\u001b[0m\u001b[0;34m=\u001b[0m\u001b[0;36m1\u001b[0m\u001b[0;34m,\u001b[0m \u001b[0mconvert\u001b[0m\u001b[0;34m=\u001b[0m\u001b[0;32mTrue\u001b[0m\u001b[0;34m)\u001b[0m\u001b[0;34m\u001b[0m\u001b[0m\n\u001b[1;32m   2179\u001b[0m \u001b[0;34m\u001b[0m\u001b[0m\n",
      "\u001b[0;32m/usr/local/lib/python3.5/dist-packages/pandas/core/indexing.py\u001b[0m in \u001b[0;36m_convert_to_indexer\u001b[0;34m(self, obj, axis, is_setter)\u001b[0m\n\u001b[1;32m   1267\u001b[0m                 \u001b[0;32mif\u001b[0m \u001b[0mmask\u001b[0m\u001b[0;34m.\u001b[0m\u001b[0many\u001b[0m\u001b[0;34m(\u001b[0m\u001b[0;34m)\u001b[0m\u001b[0;34m:\u001b[0m\u001b[0;34m\u001b[0m\u001b[0m\n\u001b[1;32m   1268\u001b[0m                     raise KeyError('{mask} not in index'\n\u001b[0;32m-> 1269\u001b[0;31m                                    .format(mask=objarr[mask]))\n\u001b[0m\u001b[1;32m   1270\u001b[0m \u001b[0;34m\u001b[0m\u001b[0m\n\u001b[1;32m   1271\u001b[0m                 \u001b[0;32mreturn\u001b[0m \u001b[0m_values_from_object\u001b[0m\u001b[0;34m(\u001b[0m\u001b[0mindexer\u001b[0m\u001b[0;34m)\u001b[0m\u001b[0;34m\u001b[0m\u001b[0m\n",
      "\u001b[0;31mKeyError\u001b[0m: \"['Gene_ID'] not in index\""
     ]
    }
   ],
   "source": [
    "path = '/root/Downloads/jupyter/Atlas/'\n",
    "file_tpm_list = glob.glob((os.path.join(path,\"Tran*\")))\n",
    "\n",
    "#file_tpm_list\n",
    "columns=['Gene_ID']\n",
    "df_list = [pd.read_csv(x,delimiter=',' ,comment='#')[['Gene_ID']] for x in file_tpm_list]\n",
    "\n",
    "#df_mat = reduce(lambda a,b : pd.merge(a,b,on=\"Gene ID\",how='left'),df_list)\n"
   ]
  },
  {
   "cell_type": "code",
   "execution_count": 229,
   "metadata": {},
   "outputs": [
    {
     "data": {
      "text/plain": [
       "['/root/Downloads/jupyter/Atlas/Transcription profiling by array of Arabidopsis Col-0, Fei-0, Bur-0, C24, Sha, Bay-0 and Bl-1 after treatment with indole-3-acetic acid.csv',\n",
       " '/root/Downloads/jupyter/Atlas/Transcription profiling by array of Arabidopsis T87 cells after treatment with abscisic acid and dimethylthiourea.csv',\n",
       " '/root/Downloads/jupyter/Atlas/Transcription profiling by array of Arabidopsis after treatment with auxin and brassinazole or auxin only.csv',\n",
       " '/root/Downloads/jupyter/Atlas/Transcription profiling by array of Arabidopsis expressing PcGA2ox1 after treatment with gibberellin.csv',\n",
       " '/root/Downloads/jupyter/Atlas/Transcription profiling by array of Arabidopsis expressing miR393 or AFB1 under the control of the 35S promoter after treatment with auxin andor flg22.csv',\n",
       " '/root/Downloads/jupyter/Atlas/Transcription profiling by array of Arabidopsis mutant for agb1 and or gpa1 after treatment with abscisic acid.csv',\n",
       " '/root/Downloads/jupyter/Atlas/Transcription profiling by array of Arabidopsis mutant for arf2 after treatment with brassinazole.csv',\n",
       " '/root/Downloads/jupyter/Atlas/Transcription profiling by array of Arabidopsis mutant for arr10 and arr12 after treatment with t-zeatin.csv',\n",
       " '/root/Downloads/jupyter/Atlas/Transcription profiling by array of Arabidopsis mutant for nph4 or arf19 or both after treatment with indole-3-acetic acid.csv',\n",
       " '/root/Downloads/jupyter/Atlas/Transcription profiling by array of Arabidopsis mutant for sdh1 after treatment with salicylic acid.csv',\n",
       " '/root/Downloads/jupyter/Atlas/Transcription profiling by array of Arabidopsis overexpressing arr22 after treatment with t-zeatin.csv',\n",
       " '/root/Downloads/jupyter/Atlas/Transcription profiling by array of Arabidopsis seedlings treated with brassinolide.csv',\n",
       " '/root/Downloads/jupyter/Atlas/Transcription profiling by array of Arabidopsis stem tissues after treatment with naphthaleneacetic acid.csv',\n",
       " '/root/Downloads/jupyter/Atlas/Transcription profiling by array of Arabidopsis whole embryos and endosperm after treatment with abscisic acid or paclobutrazol.csv',\n",
       " '/root/Downloads/jupyter/Atlas/Transcription profiling by array of four distinct tissues of Arabidopsis root and whole root treated with (auxin) indole-3-acetic acid against mock-treated controls.csv',\n",
       " '/root/Downloads/jupyter/Atlas/Transcription profiling by high throughput sequencing of Arabidopsis mutants ros1-3 and ros1-4 treated with ABA.csv',\n",
       " '/root/Downloads/jupyter/Atlas/Transcription profiling by high throughput sequencing of Arabidopsis seedlings treated for 2 hour with cytokinin.csv',\n",
       " '/root/Downloads/jupyter/Atlas/Transcription profiling by high throughput sequencing of Arabidopsis shoots and roots in response to cytokinin.csv',\n",
       " '/root/Downloads/jupyter/Atlas/Transcription profiling of Arabidopsis plants treated with indole-3-acetic acid (IAA) or IAA plus dexamethasone.csv',\n",
       " '/root/Downloads/jupyter/Atlas/Transcription profiling of Arabidopsis seedlings treated with glucose and indole-3-acetic acid (auxin) to study glucose-auxin interactions.csv',\n",
       " '/root/Downloads/jupyter/Atlas/Transcription profiling of aerial parts of Arabidopsis wild type and arr10 arr12 double mutant seedlings treated with the cytokinin trans-zeatin.csv']"
      ]
     },
     "execution_count": 229,
     "metadata": {},
     "output_type": "execute_result"
    }
   ],
   "source": [
    "file_tpm_list"
   ]
  },
  {
   "cell_type": "code",
   "execution_count": 204,
   "metadata": {},
   "outputs": [
    {
     "name": "stdout",
     "output_type": "stream",
     "text": [
      "Transcription_profiling_by_array_of_Arabidopsis_mutant_for_sdh1_after_treatment_with_salicylic_acid\n"
     ]
    }
   ],
   "source": [
    "ab=print(k)"
   ]
  },
  {
   "cell_type": "code",
   "execution_count": 205,
   "metadata": {},
   "outputs": [],
   "source": []
  },
  {
   "cell_type": "code",
   "execution_count": 202,
   "metadata": {},
   "outputs": [
    {
     "ename": "TypeError",
     "evalue": "ab() takes 0 positional arguments but 1 was given",
     "output_type": "error",
     "traceback": [
      "\u001b[0;31m---------------------------------------------------------------------------\u001b[0m",
      "\u001b[0;31mTypeError\u001b[0m                                 Traceback (most recent call last)",
      "\u001b[0;32m<ipython-input-202-a7811458508b>\u001b[0m in \u001b[0;36m<module>\u001b[0;34m()\u001b[0m\n\u001b[0;32m----> 1\u001b[0;31m \u001b[0mab\u001b[0m\u001b[0;34m(\u001b[0m\u001b[0mk\u001b[0m\u001b[0;34m)\u001b[0m\u001b[0;34m\u001b[0m\u001b[0m\n\u001b[0m",
      "\u001b[0;31mTypeError\u001b[0m: ab() takes 0 positional arguments but 1 was given"
     ]
    }
   ],
   "source": []
  },
  {
   "cell_type": "code",
   "execution_count": null,
   "metadata": {},
   "outputs": [],
   "source": [
    "for x in dong:\n",
    "    woo=reduce(lambda a,b : pd.merge(a,b,on=\"Gene ID\",how='left'),dong[x])\n",
    "        "
   ]
  },
  {
   "cell_type": "code",
   "execution_count": null,
   "metadata": {},
   "outputs": [],
   "source": [
    "dong[x]"
   ]
  },
  {
   "cell_type": "code",
   "execution_count": null,
   "metadata": {},
   "outputs": [],
   "source": [
    "print(x)"
   ]
  },
  {
   "cell_type": "code",
   "execution_count": null,
   "metadata": {},
   "outputs": [],
   "source": [
    "dong(Transcription_profiling_by_array_of_Arabidopsis_Col_0__Fei_0__Bur_0__C24__Sha__Bay_0_and_Bl_1_after_treatment_with_indole_3_acetic_acid)"
   ]
  },
  {
   "cell_type": "code",
   "execution_count": null,
   "metadata": {},
   "outputs": [],
   "source": [
    "a=files_dict.keys()"
   ]
  },
  {
   "cell_type": "code",
   "execution_count": null,
   "metadata": {},
   "outputs": [],
   "source": [
    "ab=list(a)"
   ]
  },
  {
   "cell_type": "code",
   "execution_count": null,
   "metadata": {},
   "outputs": [],
   "source": [
    "ab[1:].to_frame()"
   ]
  },
  {
   "cell_type": "code",
   "execution_count": null,
   "metadata": {},
   "outputs": [],
   "source": [
    "ab[1]=a"
   ]
  },
  {
   "cell_type": "code",
   "execution_count": null,
   "metadata": {},
   "outputs": [],
   "source": []
  },
  {
   "cell_type": "code",
   "execution_count": null,
   "metadata": {},
   "outputs": [],
   "source": [
    "ab[2]=b"
   ]
  },
  {
   "cell_type": "code",
   "execution_count": null,
   "metadata": {},
   "outputs": [],
   "source": [
    "ab[1]"
   ]
  },
  {
   "cell_type": "code",
   "execution_count": null,
   "metadata": {},
   "outputs": [],
   "source": [
    "a=Transcription_profiling_by_array_of_Arabidopsis_whole_embryos_and_endosperm_after_treatment_with_abscisic_acid_or_paclobutrazol"
   ]
  },
  {
   "cell_type": "code",
   "execution_count": null,
   "metadata": {},
   "outputs": [],
   "source": [
    "ab[0:]"
   ]
  },
  {
   "cell_type": "code",
   "execution_count": null,
   "metadata": {},
   "outputs": [],
   "source": [
    "ab[1]"
   ]
  },
  {
   "cell_type": "code",
   "execution_count": null,
   "metadata": {},
   "outputs": [],
   "source": [
    "Transcription_profiling_by_array_of_Arabidopsis_mutant_for_sdh1_after_treatment_with_salicylic_acid.head()"
   ]
  },
  {
   "cell_type": "code",
   "execution_count": null,
   "metadata": {},
   "outputs": [],
   "source": [
    "Transcription_profiling_by_array_of_Arabidopsis_mutant_for_nph4_or_arf19_or_both_after_treatment_with_indole_3_acetic_acid.head()"
   ]
  },
  {
   "cell_type": "code",
   "execution_count": null,
   "metadata": {},
   "outputs": [],
   "source": [
    "dfa"
   ]
  },
  {
   "cell_type": "code",
   "execution_count": null,
   "metadata": {},
   "outputs": [],
   "source": []
  },
  {
   "cell_type": "code",
   "execution_count": null,
   "metadata": {},
   "outputs": [],
   "source": [
    "pd.merge(, how= 'left' ,on=['Gene ID','Gene Name','DesignElementAccession'])"
   ]
  },
  {
   "cell_type": "code",
   "execution_count": null,
   "metadata": {},
   "outputs": [],
   "source": []
  },
  {
   "cell_type": "code",
   "execution_count": null,
   "metadata": {},
   "outputs": [],
   "source": []
  }
 ],
 "metadata": {
  "kernelspec": {
   "display_name": "Python 3",
   "language": "python",
   "name": "python3"
  },
  "language_info": {
   "codemirror_mode": {
    "name": "ipython",
    "version": 3
   },
   "file_extension": ".py",
   "mimetype": "text/x-python",
   "name": "python",
   "nbconvert_exporter": "python",
   "pygments_lexer": "ipython3",
   "version": "3.5.2"
  }
 },
 "nbformat": 4,
 "nbformat_minor": 2
}
