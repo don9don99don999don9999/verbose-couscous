{
 "cells": [
  {
   "cell_type": "code",
   "execution_count": 1,
   "metadata": {},
   "outputs": [],
   "source": [
    "A= 'dongu'"
   ]
  },
  {
   "cell_type": "code",
   "execution_count": 2,
   "metadata": {},
   "outputs": [
    {
     "data": {
      "text/plain": [
       "'dongu'"
      ]
     },
     "execution_count": 2,
     "metadata": {},
     "output_type": "execute_result"
    }
   ],
   "source": [
    "A"
   ]
  },
  {
   "cell_type": "code",
   "execution_count": null,
   "metadata": {},
   "outputs": [],
   "source": [
    "z"
   ]
  },
  {
   "cell_type": "code",
   "execution_count": 3,
   "metadata": {},
   "outputs": [],
   "source": [
    "B ='GNU'"
   ]
  },
  {
   "cell_type": "code",
   "execution_count": 4,
   "metadata": {},
   "outputs": [],
   "source": [
    "age = '26'"
   ]
  },
  {
   "cell_type": "code",
   "execution_count": 5,
   "metadata": {},
   "outputs": [],
   "source": [
    "height='170'"
   ]
  },
  {
   "cell_type": "code",
   "execution_count": 6,
   "metadata": {},
   "outputs": [
    {
     "data": {
      "text/plain": [
       "'26170'"
      ]
     },
     "execution_count": 6,
     "metadata": {},
     "output_type": "execute_result"
    }
   ],
   "source": [
    "age + height"
   ]
  },
  {
   "cell_type": "code",
   "execution_count": 10,
   "metadata": {},
   "outputs": [
    {
     "data": {
      "text/plain": [
       "str"
      ]
     },
     "execution_count": 10,
     "metadata": {},
     "output_type": "execute_result"
    }
   ],
   "source": [
    "type (age)"
   ]
  },
  {
   "cell_type": "code",
   "execution_count": 11,
   "metadata": {},
   "outputs": [
    {
     "data": {
      "text/plain": [
       "str"
      ]
     },
     "execution_count": 11,
     "metadata": {},
     "output_type": "execute_result"
    }
   ],
   "source": [
    "type (A)"
   ]
  },
  {
   "cell_type": "code",
   "execution_count": 12,
   "metadata": {},
   "outputs": [
    {
     "data": {
      "text/plain": [
       "str"
      ]
     },
     "execution_count": 12,
     "metadata": {},
     "output_type": "execute_result"
    }
   ],
   "source": [
    "type(age)"
   ]
  },
  {
   "cell_type": "code",
   "execution_count": 13,
   "metadata": {},
   "outputs": [
    {
     "data": {
      "text/plain": [
       "'dongu26'"
      ]
     },
     "execution_count": 13,
     "metadata": {},
     "output_type": "execute_result"
    }
   ],
   "source": [
    "A+age"
   ]
  },
  {
   "cell_type": "code",
   "execution_count": 15,
   "metadata": {},
   "outputs": [
    {
     "data": {
      "text/plain": [
       "'dongu26'"
      ]
     },
     "execution_count": 15,
     "metadata": {},
     "output_type": "execute_result"
    }
   ],
   "source": [
    "A+str(age)"
   ]
  },
  {
   "cell_type": "code",
   "execution_count": 16,
   "metadata": {},
   "outputs": [],
   "source": [
    "c= 10+10"
   ]
  },
  {
   "cell_type": "code",
   "execution_count": 19,
   "metadata": {},
   "outputs": [],
   "source": [
    "c2=int(age)+10"
   ]
  },
  {
   "cell_type": "code",
   "execution_count": 22,
   "metadata": {},
   "outputs": [
    {
     "data": {
      "text/plain": [
       "36"
      ]
     },
     "execution_count": 22,
     "metadata": {},
     "output_type": "execute_result"
    }
   ],
   "source": [
    "c2"
   ]
  },
  {
   "cell_type": "code",
   "execution_count": 23,
   "metadata": {},
   "outputs": [],
   "source": [
    "gai_gene='''\n",
    "ctaaactctaaagtaatactaactttagaaaatattaatctgtaaaaagctatatattcc\n",
    "ctaatatattagtttattaatttcaatatattccctaattacaaattttggtgtgtgtgt\n",
    "gattttcagccttatctctttgagctgtagatgttgctgttagccctctgatccatgatt\n",
    "catcggacatcgagccccatcacgagcctttttattctcaacaataataatcattttttt\n",
    "tcttataaccttcctctctatttttacaatttattttgttattagaagtggtagtggagt\n",
    "gaaaaaacaaatcctaagcagtcctaaccgatccccgaagctaaagattcttcaccttcc\n",
    "caaataaagcaaaacctagatccgacattgaaggaaaaaccttttagatccatctctgaa\n",
    "aaaaaaccaaccatgaagagagatcatcatcatcatcatcatcaagataagaagactatg\n",
    "atgatgaatgaagaagacgacggtaacggcatggatgagcttctagctgttcttggttac\n",
    "aaggttaggtcatccgaaatggctgatgttgctcagaaactcgagcagcttgaagttatg\n",
    "atgtctaatgttcaagaagacgatctttctcaactcgctactgagactgttcactataat\n",
    "ccggcggagctttacacgtggcttgattctatgctcaccgaccttaatcctccgtcgtct\n",
    "aacgccgagtacgatcttaaagctattcccggtgacgcgattctcaatcagttcgctatc\n",
    "gattcggcttcttcgtctaaccaaggcggcggaggagatacgtatactacaaacaagcgg\n",
    "ttgaaatgctcaaacggcgtcgtggaaaccactacagcgacggctgagtcaactcggcat\n",
    "gttgtcctggttgactcgcaggagaacggtgtgcgtctcgttcacgcgcttttggcttgc\n",
    "gctgaagctgttcagaaagagaatctgactgtagcggaagctctggtgaagcaaatcgga\n",
    "ttcttagccgtttctcaaatcggagcgatgagaaaagtcgctacttacttcgccgaagct\n",
    "ctcgcgcggcggatttaccgtctctctccgtcgcagagtccaatcgaccactctctctcc\n",
    "gatactcttcagatgcacttctacgagacttgtccttatctcaagttcgctcacttcacg\n",
    "gcgaatcaagcgattctcgaagcttttcaagggaagaaaagagttcatgtcattgatttc\n",
    "tctatgagtcaaggtcttcaatggccggcgcttatgcaggctcttgcgcttcgacctggt\n",
    "ggtcctcctgttttccggttaaccggaattggtccaccggcaccggataatttcgattat\n",
    "cttcatgaagttgggtgtaagctggctcatttagctgaggcgattcacgttgagtttgag\n",
    "tacagaggatttgtggctaacactttagctgatcttgatgcttcgatgcttgagcttaga\n",
    "ccaagtgagattgaatctgttgcggttaactctgttttcgagcttcacaagctcttggga\n",
    "cgacctggtgcgatcgataaggttcttggtgtggtgaatcagattaaaccggagattttc\n",
    "actgtggttgagcaggaatcgaaccataatagtccgattttcttagatcggtttactgag\n",
    "tcgttgcattattactcgacgttgtttgactcgttggaaggtgtaccgagtggtcaagac\n",
    "aaggtcatgtcggaggtttacttgggtaaacagatctgcaacgttgtggcttgtgatgga\n",
    "cctgaccgagttgagcgtcatgaaacgttgagtcagtggaggaaccggttcgggtctgct\n",
    "gggtttgcggctgcacatattggttcgaatgcgtttaagcaagcgagtatgcttttggct\n",
    "ctgttcaacggcggtgagggttatcgggtggaggagagtgacggctgtctcatgttgggt\n",
    "tggcacacacgaccgctcatagccacctcggcttggaaactctccaccaattagatggtg\n",
    "gctcaatgaattgatctgttgaaccggttatgatgatagatttccgaccgaagccaaact\n",
    "aaatcctactgtttttccctttgtcacttgttaagatcttatctttcattatattaggta\n",
    "attgaaaaattttaatctcgctttggagagttttttttttttgcatgtgacattggaggg\n",
    "taaattggataggcagaaatagaagtatgtgttaccaagtatgtgcaattggttgaaata\n",
    "aaatcatcttgagtgtcaccatctataaaattcattgtaatgactaatgagcctgattaa\n",
    "actgtctcttatgataatgtgctgattctcatgaatatgctcttttaatgtgcatggtat\n",
    "tataggtggaccagattattttaacaatgctaag'''\n"
   ]
  },
  {
   "cell_type": "code",
   "execution_count": 33,
   "metadata": {},
   "outputs": [],
   "source": [
    "gai_gene_cleaned=gai_gene.replace('\\n','')"
   ]
  },
  {
   "cell_type": "code",
   "execution_count": 34,
   "metadata": {},
   "outputs": [
    {
     "data": {
      "text/plain": [
       "'ctaaactctaaagtaatactaactttagaaaatattaatctgtaaaaagctatatattccctaatatattagtttattaatttcaatatattccctaattacaaattttggtgtgtgtgtgattttcagccttatctctttgagctgtagatgttgctgttagccctctgatccatgattcatcggacatcgagccccatcacgagcctttttattctcaacaataataatcattttttttcttataaccttcctctctatttttacaatttattttgttattagaagtggtagtggagtgaaaaaacaaatcctaagcagtcctaaccgatccccgaagctaaagattcttcaccttcccaaataaagcaaaacctagatccgacattgaaggaaaaaccttttagatccatctctgaaaaaaaaccaaccatgaagagagatcatcatcatcatcatcatcaagataagaagactatgatgatgaatgaagaagacgacggtaacggcatggatgagcttctagctgttcttggttacaaggttaggtcatccgaaatggctgatgttgctcagaaactcgagcagcttgaagttatgatgtctaatgttcaagaagacgatctttctcaactcgctactgagactgttcactataatccggcggagctttacacgtggcttgattctatgctcaccgaccttaatcctccgtcgtctaacgccgagtacgatcttaaagctattcccggtgacgcgattctcaatcagttcgctatcgattcggcttcttcgtctaaccaaggcggcggaggagatacgtatactacaaacaagcggttgaaatgctcaaacggcgtcgtggaaaccactacagcgacggctgagtcaactcggcatgttgtcctggttgactcgcaggagaacggtgtgcgtctcgttcacgcgcttttggcttgcgctgaagctgttcagaaagagaatctgactgtagcggaagctctggtgaagcaaatcggattcttagccgtttctcaaatcggagcgatgagaaaagtcgctacttacttcgccgaagctctcgcgcggcggatttaccgtctctctccgtcgcagagtccaatcgaccactctctctccgatactcttcagatgcacttctacgagacttgtccttatctcaagttcgctcacttcacggcgaatcaagcgattctcgaagcttttcaagggaagaaaagagttcatgtcattgatttctctatgagtcaaggtcttcaatggccggcgcttatgcaggctcttgcgcttcgacctggtggtcctcctgttttccggttaaccggaattggtccaccggcaccggataatttcgattatcttcatgaagttgggtgtaagctggctcatttagctgaggcgattcacgttgagtttgagtacagaggatttgtggctaacactttagctgatcttgatgcttcgatgcttgagcttagaccaagtgagattgaatctgttgcggttaactctgttttcgagcttcacaagctcttgggacgacctggtgcgatcgataaggttcttggtgtggtgaatcagattaaaccggagattttcactgtggttgagcaggaatcgaaccataatagtccgattttcttagatcggtttactgagtcgttgcattattactcgacgttgtttgactcgttggaaggtgtaccgagtggtcaagacaaggtcatgtcggaggtttacttgggtaaacagatctgcaacgttgtggcttgtgatggacctgaccgagttgagcgtcatgaaacgttgagtcagtggaggaaccggttcgggtctgctgggtttgcggctgcacatattggttcgaatgcgtttaagcaagcgagtatgcttttggctctgttcaacggcggtgagggttatcgggtggaggagagtgacggctgtctcatgttgggttggcacacacgaccgctcatagccacctcggcttggaaactctccaccaattagatggtggctcaatgaattgatctgttgaaccggttatgatgatagatttccgaccgaagccaaactaaatcctactgtttttccctttgtcacttgttaagatcttatctttcattatattaggtaattgaaaaattttaatctcgctttggagagttttttttttttgcatgtgacattggagggtaaattggataggcagaaatagaagtatgtgttaccaagtatgtgcaattggttgaaataaaatcatcttgagtgtcaccatctataaaattcattgtaatgactaatgagcctgattaaactgtctcttatgataatgtgctgattctcatgaatatgctcttttaatgtgcatggtattataggtggaccagattattttaacaatgctaag'"
      ]
     },
     "execution_count": 34,
     "metadata": {},
     "output_type": "execute_result"
    }
   ],
   "source": [
    "gai_gene_cleaned"
   ]
  },
  {
   "cell_type": "code",
   "execution_count": 37,
   "metadata": {},
   "outputs": [],
   "source": [
    "test='1,2,3,4,5'"
   ]
  },
  {
   "cell_type": "code",
   "execution_count": 39,
   "metadata": {},
   "outputs": [],
   "source": [
    "test_list=test.split(',')"
   ]
  },
  {
   "cell_type": "code",
   "execution_count": 40,
   "metadata": {},
   "outputs": [
    {
     "data": {
      "text/plain": [
       "['1', '2', '3', '4', '5']"
      ]
     },
     "execution_count": 40,
     "metadata": {},
     "output_type": "execute_result"
    }
   ],
   "source": [
    "test_list"
   ]
  },
  {
   "cell_type": "code",
   "execution_count": 41,
   "metadata": {},
   "outputs": [
    {
     "data": {
      "text/plain": [
       "'2'"
      ]
     },
     "execution_count": 41,
     "metadata": {},
     "output_type": "execute_result"
    }
   ],
   "source": [
    "test_list[1]"
   ]
  },
  {
   "cell_type": "code",
   "execution_count": 43,
   "metadata": {},
   "outputs": [
    {
     "data": {
      "text/plain": [
       "'cta'"
      ]
     },
     "execution_count": 43,
     "metadata": {},
     "output_type": "execute_result"
    }
   ],
   "source": [
    "gai_gene_cleaned[0:3]"
   ]
  },
  {
   "cell_type": "code",
   "execution_count": 46,
   "metadata": {},
   "outputs": [
    {
     "data": {
      "text/plain": [
       "'ctctaaagta'"
      ]
     },
     "execution_count": 46,
     "metadata": {},
     "output_type": "execute_result"
    }
   ],
   "source": [
    "gai_gene_cleaned[5:5+10]"
   ]
  },
  {
   "cell_type": "code",
   "execution_count": 48,
   "metadata": {},
   "outputs": [],
   "source": [
    "gai_gene_cleaned_cut=gai_gene_cleaned.split('ttaa')"
   ]
  },
  {
   "cell_type": "code",
   "execution_count": 50,
   "metadata": {},
   "outputs": [
    {
     "data": {
      "text/plain": [
       "34"
      ]
     },
     "execution_count": 50,
     "metadata": {},
     "output_type": "execute_result"
    }
   ],
   "source": [
    "len(gai_gene_cleaned_cut[0])"
   ]
  },
  {
   "cell_type": "code",
   "execution_count": 60,
   "metadata": {},
   "outputs": [
    {
     "name": "stdout",
     "output_type": "stream",
     "text": [
      "1\n",
      "2\n",
      "3\n",
      "4\n",
      "5\n"
     ]
    }
   ],
   "source": [
    "for number in test_list:\n",
    "    print(number)"
   ]
  },
  {
   "cell_type": "code",
   "execution_count": 61,
   "metadata": {},
   "outputs": [
    {
     "data": {
      "text/plain": [
       "[0, 1, 2, 3, 4, 5, 6, 7, 8, 9]"
      ]
     },
     "execution_count": 61,
     "metadata": {},
     "output_type": "execute_result"
    }
   ],
   "source": [
    "list(range(0,10))"
   ]
  },
  {
   "cell_type": "code",
   "execution_count": 66,
   "metadata": {},
   "outputs": [
    {
     "name": "stdout",
     "output_type": "stream",
     "text": [
      "0\n",
      "4\n",
      "8\n",
      "12\n",
      "16\n",
      "20\n",
      "24\n",
      "28\n",
      "32\n",
      "36\n"
     ]
    }
   ],
   "source": [
    "for number in list(range(0,10)):\n",
    "    print(number*4)"
   ]
  },
  {
   "cell_type": "code",
   "execution_count": 75,
   "metadata": {},
   "outputs": [
    {
     "name": "stdout",
     "output_type": "stream",
     "text": [
      "0 ctaaactctaaagtaatactaactttagaaaata\n",
      "1 tctgtaaaaagctatatattccctaatatattagttta\n",
      "2 tttcaatatattccctaattacaaattttggtgtgtgtgtgattttcagccttatctctttgagctgtagatgttgctgttagccctctgatccatgattcatcggacatcgagccccatcacgagcctttttattctcaacaataataatcattttttttcttataaccttcctctctatttttacaatttattttgttattagaagtggtagtggagtgaaaaaacaaatcctaagcagtcctaaccgatccccgaagctaaagattcttcaccttcccaaataaagcaaaacctagatccgacattgaaggaaaaaccttttagatccatctctgaaaaaaaaccaaccatgaagagagatcatcatcatcatcatcatcaagataagaagactatgatgatgaatgaagaagacgacggtaacggcatggatgagcttctagctgttcttggttacaaggttaggtcatccgaaatggctgatgttgctcagaaactcgagcagcttgaagttatgatgtctaatgttcaagaagacgatctttctcaactcgctactgagactgttcactataatccggcggagctttacacgtggcttgattctatgctcaccgacc\n",
      "3 tcctccgtcgtctaacgccgagtacgatc\n",
      "4 agctattcccggtgacgcgattctcaatcagttcgctatcgattcggcttcttcgtctaaccaaggcggcggaggagatacgtatactacaaacaagcggttgaaatgctcaaacggcgtcgtggaaaccactacagcgacggctgagtcaactcggcatgttgtcctggttgactcgcaggagaacggtgtgcgtctcgttcacgcgcttttggcttgcgctgaagctgttcagaaagagaatctgactgtagcggaagctctggtgaagcaaatcggattcttagccgtttctcaaatcggagcgatgagaaaagtcgctacttacttcgccgaagctctcgcgcggcggatttaccgtctctctccgtcgcagagtccaatcgaccactctctctccgatactcttcagatgcacttctacgagacttgtccttatctcaagttcgctcacttcacggcgaatcaagcgattctcgaagcttttcaagggaagaaaagagttcatgtcattgatttctctatgagtcaaggtcttcaatggccggcgcttatgcaggctcttgcgcttcgacctggtggtcctcctgttttccgg\n",
      "5 ccggaattggtccaccggcaccggataatttcgattatcttcatgaagttgggtgtaagctggctcatttagctgaggcgattcacgttgagtttgagtacagaggatttgtggctaacactttagctgatcttgatgcttcgatgcttgagcttagaccaagtgagattgaatctgttgcgg\n",
      "6 ctctgttttcgagcttcacaagctcttgggacgacctggtgcgatcgataaggttcttggtgtggtgaatcaga\n",
      "7 accggagattttcactgtggttgagcaggaatcgaaccataatagtccgattttcttagatcggtttactgagtcgttgcattattactcgacgttgtttgactcgttggaaggtgtaccgagtggtcaagacaaggtcatgtcggaggtttacttgggtaaacagatctgcaacgttgtggcttgtgatggacctgaccgagttgagcgtcatgaaacgttgagtcagtggaggaaccggttcgggtctgctgggtttgcggctgcacatattggttcgaatgcgt\n",
      "8 gcaagcgagtatgcttttggctctgttcaacggcggtgagggttatcgggtggaggagagtgacggctgtctcatgttgggttggcacacacgaccgctcatagccacctcggcttggaaactctccaccaattagatggtggctcaatgaattgatctgttgaaccggttatgatgatagatttccgaccgaagccaaactaaatcctactgtttttccctttgtcacttg\n",
      "9 gatcttatctttcattatattaggtaattgaaaaatt\n",
      "10 tctcgctttggagagttttttttttttgcatgtgacattggagggtaaattggataggcagaaatagaagtatgtgttaccaagtatgtgcaattggttgaaataaaatcatcttgagtgtcaccatctataaaattcattgtaatgactaatgagcctga\n",
      "11 actgtctcttatgataatgtgctgattctcatgaatatgctctt\n",
      "12 tgtgcatggtattataggtggaccagattatt\n",
      "13 caatgctaag\n"
     ]
    }
   ],
   "source": [
    "i=0\n",
    "for fragment in gai_gene_cleaned_cut:\n",
    "    print (i,fragment)\n",
    "    i+=1"
   ]
  },
  {
   "cell_type": "code",
   "execution_count": 76,
   "metadata": {},
   "outputs": [
    {
     "name": "stdout",
     "output_type": "stream",
     "text": [
      "0 34 ctaaactctaaagtaatactaactttagaaaata\n",
      "1 38 tctgtaaaaagctatatattccctaatatattagttta\n",
      "2 623 tttcaatatattccctaattacaaattttggtgtgtgtgtgattttcagccttatctctttgagctgtagatgttgctgttagccctctgatccatgattcatcggacatcgagccccatcacgagcctttttattctcaacaataataatcattttttttcttataaccttcctctctatttttacaatttattttgttattagaagtggtagtggagtgaaaaaacaaatcctaagcagtcctaaccgatccccgaagctaaagattcttcaccttcccaaataaagcaaaacctagatccgacattgaaggaaaaaccttttagatccatctctgaaaaaaaaccaaccatgaagagagatcatcatcatcatcatcatcaagataagaagactatgatgatgaatgaagaagacgacggtaacggcatggatgagcttctagctgttcttggttacaaggttaggtcatccgaaatggctgatgttgctcagaaactcgagcagcttgaagttatgatgtctaatgttcaagaagacgatctttctcaactcgctactgagactgttcactataatccggcggagctttacacgtggcttgattctatgctcaccgacc\n",
      "3 29 tcctccgtcgtctaacgccgagtacgatc\n",
      "4 598 agctattcccggtgacgcgattctcaatcagttcgctatcgattcggcttcttcgtctaaccaaggcggcggaggagatacgtatactacaaacaagcggttgaaatgctcaaacggcgtcgtggaaaccactacagcgacggctgagtcaactcggcatgttgtcctggttgactcgcaggagaacggtgtgcgtctcgttcacgcgcttttggcttgcgctgaagctgttcagaaagagaatctgactgtagcggaagctctggtgaagcaaatcggattcttagccgtttctcaaatcggagcgatgagaaaagtcgctacttacttcgccgaagctctcgcgcggcggatttaccgtctctctccgtcgcagagtccaatcgaccactctctctccgatactcttcagatgcacttctacgagacttgtccttatctcaagttcgctcacttcacggcgaatcaagcgattctcgaagcttttcaagggaagaaaagagttcatgtcattgatttctctatgagtcaaggtcttcaatggccggcgcttatgcaggctcttgcgcttcgacctggtggtcctcctgttttccgg\n",
      "5 183 ccggaattggtccaccggcaccggataatttcgattatcttcatgaagttgggtgtaagctggctcatttagctgaggcgattcacgttgagtttgagtacagaggatttgtggctaacactttagctgatcttgatgcttcgatgcttgagcttagaccaagtgagattgaatctgttgcgg\n",
      "6 74 ctctgttttcgagcttcacaagctcttgggacgacctggtgcgatcgataaggttcttggtgtggtgaatcaga\n",
      "7 287 accggagattttcactgtggttgagcaggaatcgaaccataatagtccgattttcttagatcggtttactgagtcgttgcattattactcgacgttgtttgactcgttggaaggtgtaccgagtggtcaagacaaggtcatgtcggaggtttacttgggtaaacagatctgcaacgttgtggcttgtgatggacctgaccgagttgagcgtcatgaaacgttgagtcagtggaggaaccggttcgggtctgctgggtttgcggctgcacatattggttcgaatgcgt\n",
      "8 232 gcaagcgagtatgcttttggctctgttcaacggcggtgagggttatcgggtggaggagagtgacggctgtctcatgttgggttggcacacacgaccgctcatagccacctcggcttggaaactctccaccaattagatggtggctcaatgaattgatctgttgaaccggttatgatgatagatttccgaccgaagccaaactaaatcctactgtttttccctttgtcacttg\n",
      "9 37 gatcttatctttcattatattaggtaattgaaaaatt\n",
      "10 161 tctcgctttggagagttttttttttttgcatgtgacattggagggtaaattggataggcagaaatagaagtatgtgttaccaagtatgtgcaattggttgaaataaaatcatcttgagtgtcaccatctataaaattcattgtaatgactaatgagcctga\n",
      "11 44 actgtctcttatgataatgtgctgattctcatgaatatgctctt\n",
      "12 32 tgtgcatggtattataggtggaccagattatt\n",
      "13 10 caatgctaag\n"
     ]
    }
   ],
   "source": [
    "for i,fragment in enumerate(gai_gene_cleaned_cut):\n",
    "    print(i,len(fragment),fragment)"
   ]
  },
  {
   "cell_type": "code",
   "execution_count": 77,
   "metadata": {},
   "outputs": [
    {
     "name": "stdout",
     "output_type": "stream",
     "text": [
      "0 34 ctaaactctaaagtaatactaactttagaaaata\n",
      "1 38 tctgtaaaaagctatatattccctaatatattagttta\n",
      "2 623 tttcaatatattccctaattacaaattttggtgtgtgtgtgattttcagccttatctctttgagctgtagatgttgctgttagccctctgatccatgattcatcggacatcgagccccatcacgagcctttttattctcaacaataataatcattttttttcttataaccttcctctctatttttacaatttattttgttattagaagtggtagtggagtgaaaaaacaaatcctaagcagtcctaaccgatccccgaagctaaagattcttcaccttcccaaataaagcaaaacctagatccgacattgaaggaaaaaccttttagatccatctctgaaaaaaaaccaaccatgaagagagatcatcatcatcatcatcatcaagataagaagactatgatgatgaatgaagaagacgacggtaacggcatggatgagcttctagctgttcttggttacaaggttaggtcatccgaaatggctgatgttgctcagaaactcgagcagcttgaagttatgatgtctaatgttcaagaagacgatctttctcaactcgctactgagactgttcactataatccggcggagctttacacgtggcttgattctatgctcaccgacc\n",
      "3 29 tcctccgtcgtctaacgccgagtacgatc\n",
      "4 598 agctattcccggtgacgcgattctcaatcagttcgctatcgattcggcttcttcgtctaaccaaggcggcggaggagatacgtatactacaaacaagcggttgaaatgctcaaacggcgtcgtggaaaccactacagcgacggctgagtcaactcggcatgttgtcctggttgactcgcaggagaacggtgtgcgtctcgttcacgcgcttttggcttgcgctgaagctgttcagaaagagaatctgactgtagcggaagctctggtgaagcaaatcggattcttagccgtttctcaaatcggagcgatgagaaaagtcgctacttacttcgccgaagctctcgcgcggcggatttaccgtctctctccgtcgcagagtccaatcgaccactctctctccgatactcttcagatgcacttctacgagacttgtccttatctcaagttcgctcacttcacggcgaatcaagcgattctcgaagcttttcaagggaagaaaagagttcatgtcattgatttctctatgagtcaaggtcttcaatggccggcgcttatgcaggctcttgcgcttcgacctggtggtcctcctgttttccgg\n",
      "5 183 ccggaattggtccaccggcaccggataatttcgattatcttcatgaagttgggtgtaagctggctcatttagctgaggcgattcacgttgagtttgagtacagaggatttgtggctaacactttagctgatcttgatgcttcgatgcttgagcttagaccaagtgagattgaatctgttgcgg\n",
      "6 74 ctctgttttcgagcttcacaagctcttgggacgacctggtgcgatcgataaggttcttggtgtggtgaatcaga\n",
      "7 287 accggagattttcactgtggttgagcaggaatcgaaccataatagtccgattttcttagatcggtttactgagtcgttgcattattactcgacgttgtttgactcgttggaaggtgtaccgagtggtcaagacaaggtcatgtcggaggtttacttgggtaaacagatctgcaacgttgtggcttgtgatggacctgaccgagttgagcgtcatgaaacgttgagtcagtggaggaaccggttcgggtctgctgggtttgcggctgcacatattggttcgaatgcgt\n",
      "8 232 gcaagcgagtatgcttttggctctgttcaacggcggtgagggttatcgggtggaggagagtgacggctgtctcatgttgggttggcacacacgaccgctcatagccacctcggcttggaaactctccaccaattagatggtggctcaatgaattgatctgttgaaccggttatgatgatagatttccgaccgaagccaaactaaatcctactgtttttccctttgtcacttg\n",
      "9 37 gatcttatctttcattatattaggtaattgaaaaatt\n",
      "10 161 tctcgctttggagagttttttttttttgcatgtgacattggagggtaaattggataggcagaaatagaagtatgtgttaccaagtatgtgcaattggttgaaataaaatcatcttgagtgtcaccatctataaaattcattgtaatgactaatgagcctga\n",
      "11 44 actgtctcttatgataatgtgctgattctcatgaatatgctctt\n",
      "12 32 tgtgcatggtattataggtggaccagattatt\n",
      "13 10 caatgctaag\n"
     ]
    }
   ],
   "source": [
    "fragment_size = []\n",
    "for i,fragment in enumerate(gai_gene_cleaned_cut):\n",
    "    print(i, len(fragment),fragment)\n",
    "    fragment_size.append(len(fragment))"
   ]
  },
  {
   "cell_type": "code",
   "execution_count": 78,
   "metadata": {},
   "outputs": [
    {
     "data": {
      "text/plain": [
       "[34, 38, 623, 29, 598, 183, 74, 287, 232, 37, 161, 44, 32, 10]"
      ]
     },
     "execution_count": 78,
     "metadata": {},
     "output_type": "execute_result"
    }
   ],
   "source": [
    "fragment_size"
   ]
  },
  {
   "cell_type": "code",
   "execution_count": 80,
   "metadata": {},
   "outputs": [],
   "source": [
    "fragment_size2=[len(x) for x in gai_gene_cleaned_cut]"
   ]
  },
  {
   "cell_type": "code",
   "execution_count": 81,
   "metadata": {},
   "outputs": [
    {
     "data": {
      "text/plain": [
       "[34, 38, 623, 29, 598, 183, 74, 287, 232, 37, 161, 44, 32, 10]"
      ]
     },
     "execution_count": 81,
     "metadata": {},
     "output_type": "execute_result"
    }
   ],
   "source": [
    "fragment_size2"
   ]
  },
  {
   "cell_type": "code",
   "execution_count": 82,
   "metadata": {},
   "outputs": [
    {
     "data": {
      "text/plain": [
       "True"
      ]
     },
     "execution_count": 82,
     "metadata": {},
     "output_type": "execute_result"
    }
   ],
   "source": [
    "fragment_size ==fragment_size2"
   ]
  },
  {
   "cell_type": "code",
   "execution_count": null,
   "metadata": {},
   "outputs": [],
   "source": []
  }
 ],
 "metadata": {
  "kernelspec": {
   "display_name": "Python 3",
   "language": "python",
   "name": "python3"
  },
  "language_info": {
   "codemirror_mode": {
    "name": "ipython",
    "version": 3
   },
   "file_extension": ".py",
   "mimetype": "text/x-python",
   "name": "python",
   "nbconvert_exporter": "python",
   "pygments_lexer": "ipython3",
   "version": "3.5.2"
  }
 },
 "nbformat": 4,
 "nbformat_minor": 2
}
