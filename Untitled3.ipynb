{
 "cells": [
  {
   "cell_type": "code",
   "execution_count": 1,
   "metadata": {},
   "outputs": [],
   "source": [
    "import pandas as pd"
   ]
  },
  {
   "cell_type": "code",
   "execution_count": 2,
   "metadata": {},
   "outputs": [],
   "source": [
    "import glob"
   ]
  },
  {
   "cell_type": "code",
   "execution_count": 6,
   "metadata": {},
   "outputs": [],
   "source": [
    "file_list = glob.glob('./minimal/*.csv')"
   ]
  },
  {
   "cell_type": "code",
   "execution_count": 26,
   "metadata": {},
   "outputs": [],
   "source": [
    "import os \n",
    "file_list2= os.path.expanduser('/root/Downloads/jupyter/minimal/') "
   ]
  },
  {
   "cell_type": "code",
   "execution_count": 27,
   "metadata": {},
   "outputs": [],
   "source": [
    "abc=os.listdir(file_list2)"
   ]
  },
  {
   "cell_type": "code",
   "execution_count": 28,
   "metadata": {},
   "outputs": [
    {
     "data": {
      "text/plain": [
       "['.ipynb_checkpoints',\n",
       " 'Transcription profiling by array of Arabidopsis Col-0, Fei-0, Bur-0, C24, Sha, Bay-0 and Bl-1 after treatment with indole-3-acetic acid.csv',\n",
       " 'Transcription profiling of aerial parts of Arabidopsis wild type and arr10 arr12 double mutant seedlings treated with the cytokinin trans-zeatin.csv']"
      ]
     },
     "execution_count": 28,
     "metadata": {},
     "output_type": "execute_result"
    }
   ],
   "source": [
    "abc"
   ]
  },
  {
   "cell_type": "code",
   "execution_count": 29,
   "metadata": {},
   "outputs": [
    {
     "name": "stdout",
     "output_type": "stream",
     "text": [
      "Transcription profiling by array of Arabidopsis Col-0, Fei-0, Bur-0, C24, Sha, Bay-0 and Bl-1 after treatment with indole-3-acetic acid.csv\n",
      "Transcription profiling of aerial parts of Arabidopsis wild type and arr10 arr12 double mutant seedlings treated with the cytokinin trans-zeatin.csv\n",
      "Transcription profiling by array of Arabidopsis Col-0, Fei-0, Bur-0, C24, Sha, Bay-0 and Bl-1 after treatment with indole-3-acetic acid-checkpoint.csv\n",
      "Transcription profiling of aerial parts of Arabidopsis wild type and arr10 arr12 double mutant seedlings treated with the cytokinin trans-zeatin-checkpoint.csv\n"
     ]
    }
   ],
   "source": [
    "import os\n",
    "import pandas as pd\n",
    "file123=[]\n",
    "for root, dirs, files in os.walk('./minimal/'):\n",
    "    for file in files:    \n",
    "        file123.appem"
   ]
  },
  {
   "cell_type": "code",
   "execution_count": null,
   "metadata": {},
   "outputs": [],
   "source": []
  }
 ],
 "metadata": {
  "kernelspec": {
   "display_name": "Python 3",
   "language": "python",
   "name": "python3"
  },
  "language_info": {
   "codemirror_mode": {
    "name": "ipython",
    "version": 3
   },
   "file_extension": ".py",
   "mimetype": "text/x-python",
   "name": "python",
   "nbconvert_exporter": "python",
   "pygments_lexer": "ipython3",
   "version": "3.5.2"
  }
 },
 "nbformat": 4,
 "nbformat_minor": 2
}
